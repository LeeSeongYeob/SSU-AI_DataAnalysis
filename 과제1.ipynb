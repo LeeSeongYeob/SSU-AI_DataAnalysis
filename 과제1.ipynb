{
 "cells": [
  {
   "cell_type": "code",
   "execution_count": 1,
   "metadata": {},
   "outputs": [
    {
     "name": "stdout",
     "output_type": "stream",
     "text": [
      "['Seoul', 'Pusan', 'Paju']\n"
     ]
    }
   ],
   "source": [
    "# 01번\n",
    "cities_str = \"Seoul,Pusan,Paju\"\n",
    "cities_list = cities_str.split(\",\")\n",
    "print(cities_list)"
   ]
  },
  {
   "cell_type": "code",
   "execution_count": 2,
   "metadata": {},
   "outputs": [
    {
     "data": {
      "text/plain": [
       "'Seoul,Pusan,Paju'"
      ]
     },
     "execution_count": 2,
     "metadata": {},
     "output_type": "execute_result"
    }
   ],
   "source": [
    "# 02번\n",
    "str2 = \",\".join(cities_list)\n",
    "str2"
   ]
  },
  {
   "cell_type": "code",
   "execution_count": 15,
   "metadata": {},
   "outputs": [
    {
     "name": "stdout",
     "output_type": "stream",
     "text": [
      "[10, 17, 24, 31, 38, 45, 52, 59]\n",
      "(10, 17, 24, 31, 38, 45, 52, 59)\n",
      "(24, 31, 38, 45, 52)\n"
     ]
    }
   ],
   "source": [
    "# 03번\n",
    "list1 = list(range(10,60,7))\n",
    "tuple1 = tuple(range(10,60,7))\n",
    "print(list1)\n",
    "print(tuple1)\n",
    "data1 = tuple1[2:7]\n",
    "print(data1)"
   ]
  },
  {
   "cell_type": "code",
   "execution_count": 4,
   "metadata": {},
   "outputs": [
    {
     "data": {
      "text/plain": [
       "['James', 'Robert', 'Lisa', 'Mary', 'Laura']"
      ]
     },
     "execution_count": 4,
     "metadata": {},
     "output_type": "execute_result"
    }
   ],
   "source": [
    "# 04번\n",
    "People = [ 'James', 'Robert', 'Lisa', 'Mary', 'Laura']\n",
    "People"
   ]
  },
  {
   "cell_type": "code",
   "execution_count": 5,
   "metadata": {},
   "outputs": [
    {
     "data": {
      "text/plain": [
       "['James', 'Robert', 'Lisa', 'Mary', 'Laura', 'Judy', 'Lisa']"
      ]
     },
     "execution_count": 5,
     "metadata": {},
     "output_type": "execute_result"
    }
   ],
   "source": [
    "People.extend(['Judy','Lisa'])\n",
    "People"
   ]
  },
  {
   "cell_type": "code",
   "execution_count": 6,
   "metadata": {},
   "outputs": [
    {
     "data": {
      "text/plain": [
       "['James', 'Robert', 'Lisa', 'Anna', 'Mary', 'Laura', 'Judy', 'Lisa']"
      ]
     },
     "execution_count": 6,
     "metadata": {},
     "output_type": "execute_result"
    }
   ],
   "source": [
    "People.insert(3,'Anna')\n",
    "People"
   ]
  },
  {
   "cell_type": "code",
   "execution_count": 7,
   "metadata": {},
   "outputs": [
    {
     "data": {
      "text/plain": [
       "['Anna', 'James', 'Judy', 'Laura', 'Lisa', 'Lisa', 'Mary', 'Robert']"
      ]
     },
     "execution_count": 7,
     "metadata": {},
     "output_type": "execute_result"
    }
   ],
   "source": [
    "People.sort()\n",
    "People"
   ]
  },
  {
   "cell_type": "code",
   "execution_count": 8,
   "metadata": {},
   "outputs": [
    {
     "data": {
      "text/plain": [
       "['Robert', 'Mary', 'Lisa', 'Lisa', 'Laura', 'Judy', 'James', 'Anna']"
      ]
     },
     "execution_count": 8,
     "metadata": {},
     "output_type": "execute_result"
    }
   ],
   "source": [
    "People.reverse()\n",
    "People"
   ]
  },
  {
   "cell_type": "code",
   "execution_count": 9,
   "metadata": {},
   "outputs": [
    {
     "data": {
      "text/plain": [
       "['Robert', 'Mary', 'Lisa', 'Lisa', 'Laura', 'Judy', 'James', 'Anna', 'Lisa']"
      ]
     },
     "execution_count": 9,
     "metadata": {},
     "output_type": "execute_result"
    }
   ],
   "source": [
    "People.append('Lisa')\n",
    "People"
   ]
  },
  {
   "cell_type": "code",
   "execution_count": 10,
   "metadata": {},
   "outputs": [
    {
     "data": {
      "text/plain": [
       "3"
      ]
     },
     "execution_count": 10,
     "metadata": {},
     "output_type": "execute_result"
    }
   ],
   "source": [
    "People.count('Lisa')"
   ]
  },
  {
   "cell_type": "code",
   "execution_count": 11,
   "metadata": {},
   "outputs": [
    {
     "data": {
      "text/plain": [
       "2"
      ]
     },
     "execution_count": 11,
     "metadata": {},
     "output_type": "execute_result"
    }
   ],
   "source": [
    "People.index('Lisa')"
   ]
  },
  {
   "cell_type": "code",
   "execution_count": 1,
   "metadata": {},
   "outputs": [
    {
     "data": {
      "text/plain": [
       "{'강아지': 'dog', '고양이': 'cat', '새': 'bird', '코끼리': 'elephant'}"
      ]
     },
     "execution_count": 1,
     "metadata": {},
     "output_type": "execute_result"
    }
   ],
   "source": [
    "# 5번\n",
    "dic = {\"강아지\":\"dog\",\"고양이\":\"cat\",\"새\":\"bird\",\"코끼리\":\"elephant\"}\n",
    "dic"
   ]
  },
  {
   "cell_type": "code",
   "execution_count": 5,
   "metadata": {},
   "outputs": [
    {
     "name": "stdout",
     "output_type": "stream",
     "text": [
      "동물 이름(한글): 강아지\n"
     ]
    }
   ],
   "source": [
    "animal_name = input(\"동물 이름(한글): \")"
   ]
  },
  {
   "cell_type": "code",
   "execution_count": 6,
   "metadata": {},
   "outputs": [
    {
     "name": "stdout",
     "output_type": "stream",
     "text": [
      "강아지는 영어로는 dog입니다.\n"
     ]
    }
   ],
   "source": [
    "animal_name_eng = dic[animal_name]\n",
    "print(f\"강아지는 영어로는 {animal_name_eng}입니다.\")"
   ]
  },
  {
   "cell_type": "code",
   "execution_count": 19,
   "metadata": {},
   "outputs": [
    {
     "name": "stdout",
     "output_type": "stream",
     "text": [
      "245\n",
      "81.66666666666667\n"
     ]
    }
   ],
   "source": [
    "# 6번\n",
    "class Student():\n",
    "    def __init__(self,name='',kor=0,eng=0,math=0):\n",
    "        self.name = name\n",
    "        self.kor= kor\n",
    "        self.eng = eng\n",
    "        self.math = math\n",
    "    \n",
    "    def getSum(self):\n",
    "        sum = (self.kor + self.eng+self.math)\n",
    "        return sum\n",
    "    \n",
    "    def getAvg(self):\n",
    "        avg =  self.getSum() / 3\n",
    "        return avg\n",
    "std1 = Student(\"Kim\",90,80,75)\n",
    "print(std1.getSum())\n",
    "print(std1.getAvg())"
   ]
  },
  {
   "cell_type": "code",
   "execution_count": 9,
   "metadata": {},
   "outputs": [
    {
     "data": {
      "text/plain": [
       "array([ 1.,  2.,  3.,  4.,  5.,  6.,  7.,  8.,  9., 10.])"
      ]
     },
     "execution_count": 9,
     "metadata": {},
     "output_type": "execute_result"
    }
   ],
   "source": [
    "# 7번\n",
    "import numpy as np\n",
    "a = [1,2,3,4,5,6,7,8,9,10]\n",
    "np.array(a,dtype=float)"
   ]
  },
  {
   "cell_type": "code",
   "execution_count": 10,
   "metadata": {},
   "outputs": [
    {
     "data": {
      "text/plain": [
       "array([10, 12, 14, 16, 18, 20, 22, 24, 26, 28, 30, 32, 34, 36, 38, 40, 42,\n",
       "       44, 46, 48])"
      ]
     },
     "execution_count": 10,
     "metadata": {},
     "output_type": "execute_result"
    }
   ],
   "source": [
    "a = np.arange(10,50,2)\n",
    "a"
   ]
  },
  {
   "cell_type": "code",
   "execution_count": 11,
   "metadata": {},
   "outputs": [
    {
     "data": {
      "text/plain": [
       "array([[10, 12, 14, 16],\n",
       "       [18, 20, 22, 24],\n",
       "       [26, 28, 30, 32],\n",
       "       [34, 36, 38, 40],\n",
       "       [42, 44, 46, 48]])"
      ]
     },
     "execution_count": 11,
     "metadata": {},
     "output_type": "execute_result"
    }
   ],
   "source": [
    "a = a.reshape(5,4)\n",
    "a"
   ]
  },
  {
   "cell_type": "code",
   "execution_count": 12,
   "metadata": {},
   "outputs": [
    {
     "data": {
      "text/plain": [
       "array([ 20.        ,  28.88888889,  37.77777778,  46.66666667,\n",
       "        55.55555556,  64.44444444,  73.33333333,  82.22222222,\n",
       "        91.11111111, 100.        ])"
      ]
     },
     "execution_count": 12,
     "metadata": {},
     "output_type": "execute_result"
    }
   ],
   "source": [
    "np.linspace(20,100,10)"
   ]
  },
  {
   "cell_type": "code",
   "execution_count": 13,
   "metadata": {},
   "outputs": [
    {
     "data": {
      "text/plain": [
       "array([[ 2,  7, 12, 14, 18],\n",
       "       [12,  8, 12, 12, 18],\n",
       "       [15,  4,  2,  4, 16],\n",
       "       [ 5, 11,  0,  5,  0]])"
      ]
     },
     "execution_count": 13,
     "metadata": {},
     "output_type": "execute_result"
    }
   ],
   "source": [
    "np.random.randint(0,20,size=(4,5))"
   ]
  },
  {
   "cell_type": "code",
   "execution_count": 8,
   "metadata": {},
   "outputs": [],
   "source": [
    "import matplotlib\n",
    "import numpy as np\n",
    "import matplotlib.pyplot as plt\n",
    "matplotlib.rcParams['font.family'] ='Malgun Gothic' # 맑은 고딕으로 폰트 설정\n",
    "matplotlib.rcParams['axes.unicode_minus'] = False "
   ]
  },
  {
   "cell_type": "code",
   "execution_count": 14,
   "metadata": {},
   "outputs": [
    {
     "data": {
      "image/png": "[encoded data removed]",
      "text/plain": [
       "<Figure size 432x288 with 1 Axes>"
      ]
     },
     "metadata": {
      "needs_background": "light"
     },
     "output_type": "display_data"
    }
   ],
   "source": [
    "# 8번\n",
    "age = np.arange(10,101,10)\n",
    "male = [5200,5200,11500,10800,10000,8790,6370,3760,1050,20]\n",
    "female = [5800,5400,10500,11200,10000,10010,6930,4040,1550,370]\n",
    "\n",
    "barWidth = 3\n",
    "plt.bar(age,male,color='b',align='edge',width = barWidth)\n",
    "plt.bar(age+barWidth, female,color = \"r\",align = 'edge', width = barWidth,\n",
    "       tick_label=age)\n",
    "plt.legend(['남','여'])\n",
    "plt.ylabel('인구')\n",
    "plt.xlabel('연령')\n",
    "plt.title('동작구 상도동의 인구구조')\n",
    "plt.show()"
   ]
  }
 ],
 "metadata": {
  "kernelspec": {
   "display_name": "Python 3",
   "language": "python",
   "name": "python3"
  },
  "language_info": {
   "codemirror_mode": {
    "name": "ipython",
    "version": 3
   },
   "file_extension": ".py",
   "mimetype": "text/x-python",
   "name": "python",
   "nbconvert_exporter": "python",
   "pygments_lexer": "ipython3",
   "version": "3.7.6"
  }
 },
 "nbformat": 4,
 "nbformat_minor": 2
}
