{
 "cells": [
  {
   "cell_type": "markdown",
   "metadata": {},
   "source": [
    "# Lec : AI및 데이터분석의 기초 \n",
    "1. 문자열 \n",
    "2. 리스트\n",
    "3. 튜플"
   ]
  },
  {
   "cell_type": "code",
   "execution_count": 2,
   "metadata": {},
   "outputs": [
    {
     "name": "stdout",
     "output_type": "stream",
     "text": [
      "Python 3.7.6\n"
     ]
    }
   ],
   "source": [
    "!python --version"
   ]
  },
  {
   "cell_type": "markdown",
   "metadata": {},
   "source": [
    "## 문자열 활용하기"
   ]
  },
  {
   "cell_type": "code",
   "execution_count": 1,
   "metadata": {},
   "outputs": [
    {
     "name": "stdout",
     "output_type": "stream",
     "text": [
      "String Test1\n"
     ]
    },
    {
     "data": {
      "text/plain": [
       "str"
      ]
     },
     "execution_count": 1,
     "metadata": {},
     "output_type": "execute_result"
    }
   ],
   "source": [
    "str1 = \"String Test1\"\n",
    "str2 = \"String Test2\"\n",
    "print(str1)\n",
    "type(str2)"
   ]
  },
  {
   "cell_type": "code",
   "execution_count": 3,
   "metadata": {},
   "outputs": [
    {
     "name": "stdout",
     "output_type": "stream",
     "text": [
      "A\n",
      "B\n"
     ]
    }
   ],
   "source": [
    "# string index\n",
    "a = \"ABC\"\n",
    "print(a[0])\n",
    "print(a[1])"
   ]
  },
  {
   "cell_type": "code",
   "execution_count": 5,
   "metadata": {},
   "outputs": [
    {
     "name": "stdout",
     "output_type": "stream",
     "text": [
      "Hello\n",
      "Hello\n"
     ]
    }
   ],
   "source": [
    "# string slicing\n",
    "a = \"Hello python\"\n",
    "print(a[0:5])\n",
    "print(a[0:-7])"
   ]
  },
  {
   "cell_type": "code",
   "execution_count": 6,
   "metadata": {},
   "outputs": [
    {
     "name": "stdout",
     "output_type": "stream",
     "text": [
      "A\n",
      "B\n",
      "C\n"
     ]
    }
   ],
   "source": [
    "# string for-loop\n",
    "str = \"ABC\"\n",
    "for x in str:\n",
    "    print(x)"
   ]
  },
  {
   "cell_type": "code",
   "execution_count": 11,
   "metadata": {},
   "outputs": [
    {
     "name": "stdout",
     "output_type": "stream",
     "text": [
      "Python\n",
      "데이터 분석\n",
      "09\n"
     ]
    }
   ],
   "source": [
    "a = \"HELLO Python\"\n",
    "test1 = \"AI 및 데이터 분석 기초\"\n",
    "test2 = \"2019.09.01\"\n",
    "print(a[6:])\n",
    "print(test1[5:-3])\n",
    "print(test2[5:-3])"
   ]
  },
  {
   "cell_type": "code",
   "execution_count": 20,
   "metadata": {},
   "outputs": [
    {
     "name": "stdout",
     "output_type": "stream",
     "text": [
      "주민번호 앞자리 : 021225\n",
      "당신은 2002년에 태어났군요.\n",
      "당신의 생일은 12월 25일 이군요.\n",
      "당신은 올해19살 이군요.\n"
     ]
    }
   ],
   "source": [
    "# 주민번호 앞자리를 입력 받아, 출생년도, 생일, 나이 출력\n",
    "personID = input(\"주민번호 앞자리 : \")\n",
    "year = personID[0:2]\n",
    "month = personID[2:4]\n",
    "day = personID[4:]\n",
    "year = \"20\"+year if year[0] == '0' else \"19\" + year\n",
    "age = 2020 - int(year) + 1\n",
    "print(f\"당신은 {year}년에 태어났군요.\")\n",
    "print(f\"당신의 생일은 {month}월 {day}일 이군요.\")\n",
    "print(f\"당신은 올해{age}살 이군요.\")"
   ]
  },
  {
   "cell_type": "code",
   "execution_count": 26,
   "metadata": {},
   "outputs": [
    {
     "name": "stdout",
     "output_type": "stream",
     "text": [
      "['에스프레소', '\\n아메리카노', ' 카페라떼', ' 카푸치노']\n",
      "['에스프레소,', '아메리카노,', '카페라떼,', '카푸치노']\n",
      "['에스프레소', '아메리카노, 카페라떼, 카푸치노']\n"
     ]
    }
   ],
   "source": [
    "# 문자열 분리하기\n",
    "coffee_menu_str = \"에스프레소,\\n아메리카노, 카페라떼, 카푸치노\"\n",
    "print(coffee_menu_str.split(','))\n",
    "print(coffee_menu_str.split())  # 개행 삭제\n",
    "print(coffee_menu_str.split(',\\n',maxsplit=2))"
   ]
  },
  {
   "cell_type": "code",
   "execution_count": 28,
   "metadata": {},
   "outputs": [
    {
     "data": {
      "text/plain": [
       "'Python'"
      ]
     },
     "execution_count": 28,
     "metadata": {},
     "output_type": "execute_result"
    }
   ],
   "source": [
    "# 필요없는 문자열 삭제 strip()\n",
    "\"aaaaPythonaaaa\".strip(\"a\")"
   ]
  },
  {
   "cell_type": "code",
   "execution_count": 30,
   "metadata": {},
   "outputs": [
    {
     "name": "stdout",
     "output_type": "stream",
     "text": [
      "bbPythonbbb\n",
      "Python\n",
      "Python\n",
      "000Python\n",
      "Python   \n"
     ]
    }
   ],
   "source": [
    "test_str = \"aaabbPythonbbbaa\"\n",
    "print(test_str.strip(\"a\"))\n",
    "print(test_str.strip(\"ab\"))\n",
    "str_lr = \"000Python   \"\n",
    "print(str_lr.strip(\"0 \"))\n",
    "print(str_lr.rstrip())\n",
    "print(str_lr.lstrip(\"0\"))\n"
   ]
  },
  {
   "cell_type": "code",
   "execution_count": 32,
   "metadata": {},
   "outputs": [
    {
     "data": {
      "text/plain": [
       "'서울시 수원시 인천시'"
      ]
     },
     "execution_count": 32,
     "metadata": {},
     "output_type": "execute_result"
    }
   ],
   "source": [
    "# 문자열 연결하기\n",
    "address_list = [\"서울시\",\"수원시\",\"인천시\"]\n",
    "\" \".join(address_list)"
   ]
  },
  {
   "cell_type": "code",
   "execution_count": 35,
   "metadata": {},
   "outputs": [
    {
     "name": "stdout",
     "output_type": "stream",
     "text": [
      "Python 위치 0\n",
      "Python 위치 7\n",
      "Python 위치 5\n",
      "Python 위치 -1\n"
     ]
    }
   ],
   "source": [
    "# 문자열 찾기\n",
    "str_f = 'Python code'\n",
    "print(f\"Python 위치 {str_f.find('Python')}\")\n",
    "print(f\"Python 위치 {str_f.find('code')}\")\n",
    "print(f\"Python 위치 {str_f.find('n')}\")\n",
    "print(f\"Python 위치 {str_f.find('easy')}\")\n"
   ]
  },
  {
   "cell_type": "code",
   "execution_count": 36,
   "metadata": {},
   "outputs": [
    {
     "name": "stdout",
     "output_type": "stream",
     "text": [
      "Python의 개수는?: 3\n"
     ]
    }
   ],
   "source": [
    "# 문자열 찾기\n",
    "str_c = \"Python is powerful. Python is easy to learn. Python is open.\"\n",
    "print(\"Python의 개수는?:\", str_c.count(\"Python\")) "
   ]
  },
  {
   "cell_type": "code",
   "execution_count": 37,
   "metadata": {},
   "outputs": [
    {
     "name": "stdout",
     "output_type": "stream",
     "text": [
      "Java is fast. Java is friendly. Java is open.\n"
     ]
    }
   ],
   "source": [
    "# 문자열 바꾸기\n",
    "str_a = 'Python is fast. Python is friendly. Python is open.' \n",
    "print(str_a.replace('Python', \"Java\"))"
   ]
  },
  {
   "cell_type": "code",
   "execution_count": 39,
   "metadata": {},
   "outputs": [
    {
     "name": "stdout",
     "output_type": "stream",
     "text": [
      "첫번째 문자열 : apple\n",
      "두번째 문자열 : strawberry\n"
     ]
    },
    {
     "data": {
      "text/plain": [
       "'p/l/s/r/w/e/r'"
      ]
     },
     "execution_count": 39,
     "metadata": {},
     "output_type": "execute_result"
    }
   ],
   "source": [
    "# 2개의 문자열을 입력 받아, 첫번째 문자열은 인덱스가 홀수,\n",
    "# 두번째 문자열은 인덱스가 짝수인 문자를 추출해 '/' seq로 출력\n",
    "str1 = input(\"첫번째 문자열 : \")\n",
    "str2 = input(\"두번째 문자열 : \")\n",
    "str3 = str1[1::2] + str2[::2]\n",
    "'/'.join(str3)"
   ]
  }
 ],
 "metadata": {
  "kernelspec": {
   "display_name": "Python 3.7.6 64-bit ('py37': conda)",
   "language": "python",
   "name": "python37664bitpy37condab31133c1ce0f4086bad6b3364bcf52b6"
  },
  "language_info": {
   "codemirror_mode": {
    "name": "ipython",
    "version": 3
   },
   "file_extension": ".py",
   "mimetype": "text/x-python",
   "name": "python",
   "nbconvert_exporter": "python",
   "pygments_lexer": "ipython3",
   "version": "3.7.6"
  }
 },
 "nbformat": 4,
 "nbformat_minor": 2
}
