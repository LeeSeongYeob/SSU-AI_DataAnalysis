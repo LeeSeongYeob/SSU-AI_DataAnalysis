{
 "cells": [
  {
   "cell_type": "markdown",
   "metadata": {},
   "source": [
    "# Python List and Tuple\n",
    "- List\n",
    "- Tuple"
   ]
  },
  {
   "cell_type": "code",
   "execution_count": 1,
   "metadata": {
    "scrolled": true
   },
   "outputs": [
    {
     "name": "stdout",
     "output_type": "stream",
     "text": [
      "Python 3.7.6\n"
     ]
    }
   ],
   "source": [
    "!python --version"
   ]
  },
  {
   "cell_type": "markdown",
   "metadata": {},
   "source": [
    "## List"
   ]
  },
  {
   "cell_type": "code",
   "execution_count": null,
   "metadata": {},
   "outputs": [],
   "source": [
    "# list 생성하기\n",
    "a = list(range(1,10,2))\n",
    "a"
   ]
  },
  {
   "cell_type": "code",
   "execution_count": 3,
   "metadata": {},
   "outputs": [
    {
     "data": {
      "text/plain": [
       "[90, 100, 85, 80]"
      ]
     },
     "execution_count": 3,
     "metadata": {},
     "output_type": "execute_result"
    }
   ],
   "source": [
    "score = [90,95,85,80]\n",
    "score[1] = 100\n",
    "score"
   ]
  },
  {
   "cell_type": "code",
   "execution_count": 6,
   "metadata": {},
   "outputs": [
    {
     "data": {
      "text/plain": [
       "[0, 2, 34, 'python', 'type']"
      ]
     },
     "execution_count": 6,
     "metadata": {},
     "output_type": "execute_result"
    }
   ],
   "source": [
    "# data type은 동일하지 않아도 됨\n",
    "mixedList = [0,2,34,\"python\",\"type\"]\n",
    "mixedList"
   ]
  },
  {
   "cell_type": "code",
   "execution_count": 9,
   "metadata": {},
   "outputs": [
    {
     "name": "stdout",
     "output_type": "stream",
     "text": [
      "[0, 1, 2, 3, 5, 6, 7, 8]\n",
      "[0, 1, 2, 3, 0, 1, 2, 3, 0, 1, 2, 3]\n"
     ]
    }
   ],
   "source": [
    "# 리스트 연결\n",
    "list1=  list(range(4))\n",
    "list2 = list(range(5,9))\n",
    "list3 = list1 + list2\n",
    "print(list3)\n",
    "list4 = list1 * 3   # 횟수 반복\n",
    "print(list4)"
   ]
  },
  {
   "cell_type": "code",
   "execution_count": 10,
   "metadata": {},
   "outputs": [
    {
     "data": {
      "text/plain": [
       "12"
      ]
     },
     "execution_count": 10,
     "metadata": {},
     "output_type": "execute_result"
    }
   ],
   "source": [
    "# 리스트 길이\n",
    "len(list4)"
   ]
  },
  {
   "cell_type": "code",
   "execution_count": 12,
   "metadata": {},
   "outputs": [
    {
     "name": "stdout",
     "output_type": "stream",
     "text": [
      "연도 : [2016, 2017, 2018]\n",
      "인구 수 : [60000000, 70000000, 80000000]\n"
     ]
    }
   ],
   "source": [
    "# quiz\n",
    "# 최근 3년간 연도와 인구수가 리스트로 출력되게 만들기\n",
    "year = [2011, 2012, 2013, 2014, 2015, 2016, 2017, 2018]\n",
    "population = [10000000, 20000000, 30000000, 40000000,\n",
    "50000000, 60000000, 70000000, 80000000]\n",
    "print(f\"연도 : {year[-3:]}\")\n",
    "print(f\"인구 수 : {population[-3:]}\")"
   ]
  },
  {
   "cell_type": "code",
   "execution_count": 16,
   "metadata": {},
   "outputs": [
    {
     "name": "stdout",
     "output_type": "stream",
     "text": [
      "['James', 'Robert', 'Lisa', 'Mary', 'Laura', 'Betty']\n",
      "['James', 'Robert', 'Judy', 'Lisa', 'Mary', 'Laura', 'Betty']\n",
      "['Betty', 'James', 'Judy', 'Laura', 'Lisa', 'Mary', 'Robert']\n",
      "['Robert', 'Mary', 'Lisa', 'Laura', 'Judy', 'James', 'Betty']\n",
      "1\n",
      "2\n"
     ]
    }
   ],
   "source": [
    "myFriends = [\"James\",\"Robert\",\"Lisa\",\"Mary\"]\n",
    "myFriends.extend([\"Laura\",\"Betty\"])\n",
    "print(myFriends)\n",
    "myFriends.insert(2,\"Judy\")\n",
    "print(myFriends)\n",
    "myFriends.sort()\n",
    "print(myFriends)\n",
    "myFriends.reverse()\n",
    "print(myFriends)\n",
    "print(myFriends.count(\"Lisa\"))\n",
    "print(myFriends.index(\"Lisa\"))"
   ]
  },
  {
   "cell_type": "markdown",
   "metadata": {},
   "source": [
    "## Tuple\n",
    "- 튜플은 데이터 한번 입력(혹은 생성)하면 그 이후 항목 변경 불가"
   ]
  },
  {
   "cell_type": "code",
   "execution_count": 20,
   "metadata": {},
   "outputs": [
    {
     "name": "stdout",
     "output_type": "stream",
     "text": [
      "<class 'tuple'>\n",
      "(10,)\n"
     ]
    }
   ],
   "source": [
    "tuple1 = 1,2,3,4\n",
    "print(type(tuple1))\n",
    "tuple2 = 10,  # 인자가 1개일 시, ','필요\n",
    "print(tuple2)"
   ]
  },
  {
   "cell_type": "code",
   "execution_count": 24,
   "metadata": {
    "scrolled": true
   },
   "outputs": [
    {
     "name": "stdout",
     "output_type": "stream",
     "text": [
      "(-4, -2, 0, 2, 4, 6, 8)\n"
     ]
    },
    {
     "ename": "TypeError",
     "evalue": "'tuple' object does not support item assignment",
     "output_type": "error",
     "traceback": [
      "\u001b[1;31m---------------------------------------------------------------------------\u001b[0m",
      "\u001b[1;31mTypeError\u001b[0m                                 Traceback (most recent call last)",
      "\u001b[1;32m<ipython-input-24-08c045428870>\u001b[0m in \u001b[0;36m<module>\u001b[1;34m\u001b[0m\n\u001b[0;32m      1\u001b[0m \u001b[0ma\u001b[0m \u001b[1;33m=\u001b[0m \u001b[0mtuple\u001b[0m\u001b[1;33m(\u001b[0m\u001b[0mrange\u001b[0m\u001b[1;33m(\u001b[0m\u001b[1;33m-\u001b[0m\u001b[1;36m4\u001b[0m\u001b[1;33m,\u001b[0m\u001b[1;36m10\u001b[0m\u001b[1;33m,\u001b[0m\u001b[1;36m2\u001b[0m\u001b[1;33m)\u001b[0m\u001b[1;33m)\u001b[0m\u001b[1;33m\u001b[0m\u001b[1;33m\u001b[0m\u001b[0m\n\u001b[0;32m      2\u001b[0m \u001b[0mprint\u001b[0m\u001b[1;33m(\u001b[0m\u001b[0ma\u001b[0m\u001b[1;33m)\u001b[0m\u001b[1;33m\u001b[0m\u001b[1;33m\u001b[0m\u001b[0m\n\u001b[1;32m----> 3\u001b[1;33m \u001b[0ma\u001b[0m\u001b[1;33m[\u001b[0m\u001b[1;36m5\u001b[0m\u001b[1;33m]\u001b[0m \u001b[1;33m=\u001b[0m \u001b[1;36m10\u001b[0m\u001b[1;33m\u001b[0m\u001b[1;33m\u001b[0m\u001b[0m\n\u001b[0m",
      "\u001b[1;31mTypeError\u001b[0m: 'tuple' object does not support item assignment"
     ]
    }
   ],
   "source": [
    "a = tuple(range(-4,10,2))\n",
    "print(a)\n",
    "a[5] = 10   # 변경 불가"
   ]
  },
  {
   "cell_type": "code",
   "execution_count": 28,
   "metadata": {},
   "outputs": [
    {
     "name": "stdout",
     "output_type": "stream",
     "text": [
      "3\n",
      "2\n"
     ]
    }
   ],
   "source": [
    "# index, count 함수\n",
    "test= 'a','b','c','d','a'\n",
    "print(test.index('d'))\n",
    "print(test.count('a'))"
   ]
  },
  {
   "cell_type": "code",
   "execution_count": 29,
   "metadata": {},
   "outputs": [
    {
     "name": "stdout",
     "output_type": "stream",
     "text": [
      "[75, -10, 32, -15, 76, 2]\n",
      "[75, -10, 32, -15, 76, 2]\n",
      "[75, -10, 32, -15, 76, 2]\n"
     ]
    }
   ],
   "source": [
    "# 인덱스가 홀수인 요소 출력\n",
    "n = [-32,75,97,-10,9,32,4,-15,0,76,14,2]\n",
    "print(n[1::2])\n",
    "print(n[1:12:2])\n",
    "print(n[1:len(n):2])"
   ]
  }
 ],
 "metadata": {
  "kernelspec": {
   "display_name": "Python 3.7.6 64-bit ('py37': conda)",
   "language": "python",
   "name": "python37664bitpy37condab31133c1ce0f4086bad6b3364bcf52b6"
  },
  "language_info": {
   "codemirror_mode": {
    "name": "ipython",
    "version": 3
   },
   "file_extension": ".py",
   "mimetype": "text/x-python",
   "name": "python",
   "nbconvert_exporter": "python",
   "pygments_lexer": "ipython3",
   "version": "3.7.6"
  }
 },
 "nbformat": 4,
 "nbformat_minor": 2
}
