{
  "nbformat": 4,
  "nbformat_minor": 0,
  "metadata": {
    "colab": {
      "name": "Tensorflow_Keras.ipynb",
      "provenance": []
    },
    "kernelspec": {
      "name": "python3",
      "display_name": "Python 3"
    },
    "accelerator": "GPU"
  },
  "cells": [
    {
      "cell_type": "markdown",
      "metadata": {
        "id": "i8eYeJ5BGCPW"
      },
      "source": [
        "# 폐암 수술 환자의 생존율 예측하기\n",
        "- feat = 종양의 유형, 폐활량, 호흡 곤란 여부, 고통 정도, 기침,\n",
        "흡연, 천식 여부 등의 수술 전 환자 상태\n",
        "- 1 생존 0 사망"
      ]
    },
    {
      "cell_type": "code",
      "metadata": {
        "id": "yLPOTnNaAUxj",
        "outputId": "c647d3c6-ec97-4ee7-cd03-d00d60b49f15",
        "colab": {
          "base_uri": "https://localhost:8080/",
          "height": 35
        }
      },
      "source": [
        "import tensorflow as tf\n",
        "import keras\n",
        "import pandas as pd\n",
        "import numpy as np\n",
        "tf.__version__"
      ],
      "execution_count": 3,
      "outputs": [
        {
          "output_type": "execute_result",
          "data": {
            "application/vnd.google.colaboratory.intrinsic+json": {
              "type": "string"
            },
            "text/plain": [
              "'2.3.0'"
            ]
          },
          "metadata": {
            "tags": []
          },
          "execution_count": 3
        }
      ]
    },
    {
      "cell_type": "code",
      "metadata": {
        "id": "k4dHj6-bGHki",
        "outputId": "10ce19df-9b99-4279-f695-7dc7c18a262a",
        "colab": {
          "base_uri": "https://localhost:8080/",
          "height": 140
        }
      },
      "source": [
        "data = pd.read_csv(\"./thoraric_surgery.csv\")\n",
        "data = data.values\n",
        "data"
      ],
      "execution_count": 5,
      "outputs": [
        {
          "output_type": "execute_result",
          "data": {
            "text/plain": [
              "array([[293.  ,   1.  ,   3.8 , ...,   0.  ,  62.  ,   0.  ],\n",
              "       [  1.  ,   2.  ,   2.88, ...,   0.  ,  60.  ,   0.  ],\n",
              "       [  8.  ,   2.  ,   3.19, ...,   0.  ,  66.  ,   1.  ],\n",
              "       ...,\n",
              "       [406.  ,   6.  ,   5.36, ...,   0.  ,  62.  ,   0.  ],\n",
              "       [ 25.  ,   8.  ,   4.32, ...,   0.  ,  58.  ,   1.  ],\n",
              "       [447.  ,   8.  ,   5.2 , ...,   0.  ,  49.  ,   0.  ]])"
            ]
          },
          "metadata": {
            "tags": []
          },
          "execution_count": 5
        }
      ]
    },
    {
      "cell_type": "markdown",
      "metadata": {
        "id": "rNzJZJIjK547"
      },
      "source": [
        "#### 학습 데이터셋과 테스트 데이터 셋 분리"
      ]
    },
    {
      "cell_type": "code",
      "metadata": {
        "id": "Zy7X2c_MKaTy",
        "outputId": "096a8c9f-2c47-41a9-d45e-cf6193556570",
        "colab": {
          "base_uri": "https://localhost:8080/",
          "height": 34
        }
      },
      "source": [
        "from sklearn.model_selection import train_test_split\n",
        "train, test = train_test_split(data,test_size=0.2)\n",
        "X_train = train[:,0:17]\n",
        "Y_train = train[:,-1:]\n",
        "print(X_train.shape, Y_train.shape)"
      ],
      "execution_count": 7,
      "outputs": [
        {
          "output_type": "stream",
          "text": [
            "(376, 17) (376, 1)\n"
          ],
          "name": "stdout"
        }
      ]
    },
    {
      "cell_type": "code",
      "metadata": {
        "id": "83RHm1sTLL5e",
        "outputId": "f7430536-a922-46e2-afd8-19412ab8ad4e",
        "colab": {
          "base_uri": "https://localhost:8080/",
          "height": 34
        }
      },
      "source": [
        "X_test = test[:,0:17]\n",
        "Y_test = test[:,-1:]\n",
        "print(X_test.shape, Y_test.shape)"
      ],
      "execution_count": 8,
      "outputs": [
        {
          "output_type": "stream",
          "text": [
            "(94, 17) (94, 1)\n"
          ],
          "name": "stdout"
        }
      ]
    },
    {
      "cell_type": "markdown",
      "metadata": {
        "id": "qfrh_MabL6c9"
      },
      "source": [
        "#### 입력층, 은닉층, 출력층 만들기"
      ]
    },
    {
      "cell_type": "code",
      "metadata": {
        "id": "GyFzATbOLZLZ"
      },
      "source": [
        "from keras.models import Sequential\n",
        "from keras.layers import Dense"
      ],
      "execution_count": 9,
      "outputs": []
    },
    {
      "cell_type": "code",
      "metadata": {
        "id": "gax5ZXloMETo"
      },
      "source": [
        "model = Sequential()\n",
        "model.add(Dense(30,input_dim=17,activation='relu'))\n",
        "model.add(Dense(1,activation='sigmoid'))\n",
        "model.compile(loss = 'mean_squared_error',optimizer='adam', metrics=['accuracy'])"
      ],
      "execution_count": 11,
      "outputs": []
    },
    {
      "cell_type": "code",
      "metadata": {
        "id": "BA6L5fCFMiih",
        "outputId": "cda72fcc-dd45-4ee5-94e7-69176c631abf",
        "colab": {
          "base_uri": "https://localhost:8080/",
          "height": 1000
        }
      },
      "source": [
        "model.fit(X_train,Y_train, epochs=30, batch_size=10)"
      ],
      "execution_count": 12,
      "outputs": [
        {
          "output_type": "stream",
          "text": [
            "Epoch 1/30\n",
            "38/38 [==============================] - 0s 2ms/step - loss: 0.3620 - accuracy: 0.6223\n",
            "Epoch 2/30\n",
            "38/38 [==============================] - 0s 2ms/step - loss: 0.1570 - accuracy: 0.8431\n",
            "Epoch 3/30\n",
            "38/38 [==============================] - 0s 2ms/step - loss: 0.1569 - accuracy: 0.8431\n",
            "Epoch 4/30\n",
            "38/38 [==============================] - 0s 2ms/step - loss: 0.1569 - accuracy: 0.8431\n",
            "Epoch 5/30\n",
            "38/38 [==============================] - 0s 2ms/step - loss: 0.1569 - accuracy: 0.8431\n",
            "Epoch 6/30\n",
            "38/38 [==============================] - 0s 2ms/step - loss: 0.1568 - accuracy: 0.8431\n",
            "Epoch 7/30\n",
            "38/38 [==============================] - 0s 2ms/step - loss: 0.1568 - accuracy: 0.8431\n",
            "Epoch 8/30\n",
            "38/38 [==============================] - 0s 2ms/step - loss: 0.1568 - accuracy: 0.8431\n",
            "Epoch 9/30\n",
            "38/38 [==============================] - 0s 2ms/step - loss: 0.1567 - accuracy: 0.8431\n",
            "Epoch 10/30\n",
            "38/38 [==============================] - 0s 2ms/step - loss: 0.1565 - accuracy: 0.8431\n",
            "Epoch 11/30\n",
            "38/38 [==============================] - 0s 2ms/step - loss: 0.1643 - accuracy: 0.8271\n",
            "Epoch 12/30\n",
            "38/38 [==============================] - 0s 2ms/step - loss: 0.1569 - accuracy: 0.8431\n",
            "Epoch 13/30\n",
            "38/38 [==============================] - 0s 2ms/step - loss: 0.1569 - accuracy: 0.8431\n",
            "Epoch 14/30\n",
            "38/38 [==============================] - 0s 2ms/step - loss: 0.1569 - accuracy: 0.8431\n",
            "Epoch 15/30\n",
            "38/38 [==============================] - 0s 2ms/step - loss: 0.1569 - accuracy: 0.8431\n",
            "Epoch 16/30\n",
            "38/38 [==============================] - 0s 2ms/step - loss: 0.1569 - accuracy: 0.8431\n",
            "Epoch 17/30\n",
            "38/38 [==============================] - 0s 2ms/step - loss: 0.1569 - accuracy: 0.8431\n",
            "Epoch 18/30\n",
            "38/38 [==============================] - 0s 2ms/step - loss: 0.1569 - accuracy: 0.8431\n",
            "Epoch 19/30\n",
            "38/38 [==============================] - 0s 2ms/step - loss: 0.1569 - accuracy: 0.8431\n",
            "Epoch 20/30\n",
            "38/38 [==============================] - 0s 2ms/step - loss: 0.1569 - accuracy: 0.8431\n",
            "Epoch 21/30\n",
            "38/38 [==============================] - 0s 2ms/step - loss: 0.1569 - accuracy: 0.8431\n",
            "Epoch 22/30\n",
            "38/38 [==============================] - 0s 2ms/step - loss: 0.1569 - accuracy: 0.8431\n",
            "Epoch 23/30\n",
            "38/38 [==============================] - 0s 2ms/step - loss: 0.1569 - accuracy: 0.8431\n",
            "Epoch 24/30\n",
            "38/38 [==============================] - 0s 2ms/step - loss: 0.1569 - accuracy: 0.8431\n",
            "Epoch 25/30\n",
            "38/38 [==============================] - 0s 2ms/step - loss: 0.1569 - accuracy: 0.8431\n",
            "Epoch 26/30\n",
            "38/38 [==============================] - 0s 2ms/step - loss: 0.1569 - accuracy: 0.8431\n",
            "Epoch 27/30\n",
            "38/38 [==============================] - 0s 2ms/step - loss: 0.1569 - accuracy: 0.8431\n",
            "Epoch 28/30\n",
            "38/38 [==============================] - 0s 2ms/step - loss: 0.1569 - accuracy: 0.8431\n",
            "Epoch 29/30\n",
            "38/38 [==============================] - 0s 2ms/step - loss: 0.1569 - accuracy: 0.8431\n",
            "Epoch 30/30\n",
            "38/38 [==============================] - 0s 2ms/step - loss: 0.1569 - accuracy: 0.8431\n"
          ],
          "name": "stdout"
        },
        {
          "output_type": "execute_result",
          "data": {
            "text/plain": [
              "<tensorflow.python.keras.callbacks.History at 0x7fe570139d30>"
            ]
          },
          "metadata": {
            "tags": []
          },
          "execution_count": 12
        }
      ]
    },
    {
      "cell_type": "code",
      "metadata": {
        "id": "euQbPG31Nqen",
        "outputId": "381ade74-f867-4b14-c068-e898dc6db7fb",
        "colab": {
          "base_uri": "https://localhost:8080/",
          "height": 52
        }
      },
      "source": [
        "model.evaluate(X_test,Y_test)"
      ],
      "execution_count": 14,
      "outputs": [
        {
          "output_type": "stream",
          "text": [
            "3/3 [==============================] - 0s 2ms/step - loss: 0.1170 - accuracy: 0.8830\n"
          ],
          "name": "stdout"
        },
        {
          "output_type": "execute_result",
          "data": {
            "text/plain": [
              "[0.11702035367488861, 0.8829787373542786]"
            ]
          },
          "metadata": {
            "tags": []
          },
          "execution_count": 14
        }
      ]
    },
    {
      "cell_type": "code",
      "metadata": {
        "id": "BZykbwa_OE1t",
        "outputId": "1a7c7b24-542c-47f3-d9e0-b8f3589065a0",
        "colab": {
          "base_uri": "https://localhost:8080/",
          "height": 105
        }
      },
      "source": [
        "prediction = model.predict_classes(X_test)\n",
        "prediction.ravel()"
      ],
      "execution_count": 16,
      "outputs": [
        {
          "output_type": "execute_result",
          "data": {
            "text/plain": [
              "array([0, 0, 0, 0, 0, 0, 0, 0, 0, 0, 0, 0, 0, 0, 0, 0, 0, 0, 0, 0, 0, 0,\n",
              "       0, 0, 0, 0, 0, 0, 0, 0, 0, 0, 0, 0, 0, 0, 0, 0, 0, 0, 0, 0, 0, 0,\n",
              "       0, 0, 0, 0, 0, 0, 0, 0, 0, 0, 0, 0, 0, 0, 0, 0, 0, 0, 0, 0, 0, 0,\n",
              "       0, 0, 0, 0, 0, 0, 0, 0, 0, 0, 0, 0, 0, 0, 0, 0, 0, 0, 0, 0, 0, 0,\n",
              "       0, 0, 0, 0, 0, 0], dtype=int32)"
            ]
          },
          "metadata": {
            "tags": []
          },
          "execution_count": 16
        }
      ]
    }
  ]
}