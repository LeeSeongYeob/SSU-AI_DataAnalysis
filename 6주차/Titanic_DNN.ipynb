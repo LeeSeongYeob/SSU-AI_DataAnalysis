{
  "nbformat": 4,
  "nbformat_minor": 0,
  "metadata": {
    "colab": {
      "name": "Titanic_DNN.ipynb",
      "provenance": []
    },
    "kernelspec": {
      "name": "python3",
      "display_name": "Python 3"
    }
  },
  "cells": [
    {
      "cell_type": "markdown",
      "metadata": {
        "id": "GSQXrpHFeE1F"
      },
      "source": [
        "# DNN을 이용한 타이타닉 생존율 예측"
      ]
    },
    {
      "cell_type": "code",
      "metadata": {
        "id": "uucPQaxbd771"
      },
      "source": [
        "import tensorflow as tf\n",
        "from sklearn.model_selection import train_test_split\n",
        "from keras.models import Sequential\n",
        "from keras.layers import Dense\n",
        "import pandas as pd\n",
        "import numpy as np"
      ],
      "execution_count": 1,
      "outputs": []
    },
    {
      "cell_type": "code",
      "metadata": {
        "id": "AUQt19ale3xs",
        "outputId": "a6efd700-3122-469e-aa0d-8baae2ff5264",
        "colab": {
          "base_uri": "https://localhost:8080/",
          "height": 298
        }
      },
      "source": [
        "data = pd.read_csv(\"./trainClean.csv\")\n",
        "data.info()"
      ],
      "execution_count": 20,
      "outputs": [
        {
          "output_type": "stream",
          "text": [
            "<class 'pandas.core.frame.DataFrame'>\n",
            "RangeIndex: 712 entries, 0 to 711\n",
            "Data columns (total 9 columns):\n",
            " #   Column       Non-Null Count  Dtype  \n",
            "---  ------       --------------  -----  \n",
            " 0   Unnamed: 0   712 non-null    int64  \n",
            " 1   PassengerId  712 non-null    int64  \n",
            " 2   Pclass       712 non-null    int64  \n",
            " 3   Sex          712 non-null    int64  \n",
            " 4   Age          712 non-null    float64\n",
            " 5   SibSp        712 non-null    int64  \n",
            " 6   Parch        712 non-null    int64  \n",
            " 7   Fare         712 non-null    float64\n",
            " 8   Survived     712 non-null    int64  \n",
            "dtypes: float64(2), int64(7)\n",
            "memory usage: 50.2 KB\n"
          ],
          "name": "stdout"
        }
      ]
    },
    {
      "cell_type": "markdown",
      "metadata": {
        "id": "_70u9mByhPRq"
      },
      "source": [
        "### 데이터셋 나누기\n",
        "- 학습용 데이터셋 : 학습데이터와 레이블(정답) 나누기\n",
        "- 테스트용 데이터셋 : 학습데이터와 레이블(정답) 나누기"
      ]
    },
    {
      "cell_type": "code",
      "metadata": {
        "id": "M1hpdml8fpt7",
        "outputId": "2730e641-570e-41f8-a07d-6bda950f1d00",
        "colab": {
          "base_uri": "https://localhost:8080/",
          "height": 52
        }
      },
      "source": [
        "data = data.values\n",
        "train,test = train_test_split(data,test_size=0.2)\n",
        "X_train = train[:,2:4]\n",
        "Y_train = train[:,8]\n",
        "\n",
        "X_test = test[:,2:4]\n",
        "Y_test = test[:,8]\n",
        "\n",
        "print(X_train.shape,Y_train.shape)\n",
        "print(X_test.shape, Y_test.shape)"
      ],
      "execution_count": 21,
      "outputs": [
        {
          "output_type": "stream",
          "text": [
            "(569, 2) (569,)\n",
            "(143, 2) (143,)\n"
          ],
          "name": "stdout"
        }
      ]
    },
    {
      "cell_type": "markdown",
      "metadata": {
        "id": "nUUn2tUyiE3W"
      },
      "source": [
        "#### DNN Network 만들기"
      ]
    },
    {
      "cell_type": "code",
      "metadata": {
        "id": "o_c8sLI-h9b0"
      },
      "source": [
        "model = Sequential()\n",
        "model.add(Dense(30,input_dim=2,activation='relu'))\n",
        "model.add(Dense(1,activation='sigmoid'))"
      ],
      "execution_count": 22,
      "outputs": []
    },
    {
      "cell_type": "code",
      "metadata": {
        "id": "OeyMMIyciQ2B"
      },
      "source": [
        "model.compile(loss='mean_squared_error',optimizer='adam',metrics=['accuracy'])"
      ],
      "execution_count": 25,
      "outputs": []
    },
    {
      "cell_type": "markdown",
      "metadata": {
        "id": "bkfHGwtYii7J"
      },
      "source": [
        "#### 모델 학습하기"
      ]
    },
    {
      "cell_type": "code",
      "metadata": {
        "id": "KIAP6qb5iY5a",
        "outputId": "e44b3ce7-1154-4e90-b70c-a1121c825aa2",
        "colab": {
          "base_uri": "https://localhost:8080/",
          "height": 1000
        }
      },
      "source": [
        "model.fit(X_train,Y_train,epochs=30,batch_size=10)"
      ],
      "execution_count": 26,
      "outputs": [
        {
          "output_type": "stream",
          "text": [
            "Epoch 1/30\n",
            "57/57 [==============================] - 0s 762us/step - loss: 0.2262 - accuracy: 0.5975\n",
            "Epoch 2/30\n",
            "57/57 [==============================] - 0s 772us/step - loss: 0.2161 - accuracy: 0.5975\n",
            "Epoch 3/30\n",
            "57/57 [==============================] - 0s 773us/step - loss: 0.2090 - accuracy: 0.6011\n",
            "Epoch 4/30\n",
            "57/57 [==============================] - 0s 728us/step - loss: 0.2024 - accuracy: 0.6661\n",
            "Epoch 5/30\n",
            "57/57 [==============================] - 0s 810us/step - loss: 0.1964 - accuracy: 0.7469\n",
            "Epoch 6/30\n",
            "57/57 [==============================] - 0s 810us/step - loss: 0.1906 - accuracy: 0.7838\n",
            "Epoch 7/30\n",
            "57/57 [==============================] - 0s 817us/step - loss: 0.1855 - accuracy: 0.7715\n",
            "Epoch 8/30\n",
            "57/57 [==============================] - 0s 788us/step - loss: 0.1812 - accuracy: 0.7733\n",
            "Epoch 9/30\n",
            "57/57 [==============================] - 0s 755us/step - loss: 0.1780 - accuracy: 0.7680\n",
            "Epoch 10/30\n",
            "57/57 [==============================] - 0s 776us/step - loss: 0.1751 - accuracy: 0.7680\n",
            "Epoch 11/30\n",
            "57/57 [==============================] - 0s 751us/step - loss: 0.1731 - accuracy: 0.7680\n",
            "Epoch 12/30\n",
            "57/57 [==============================] - 0s 782us/step - loss: 0.1716 - accuracy: 0.7680\n",
            "Epoch 13/30\n",
            "57/57 [==============================] - 0s 800us/step - loss: 0.1698 - accuracy: 0.7680\n",
            "Epoch 14/30\n",
            "57/57 [==============================] - 0s 802us/step - loss: 0.1693 - accuracy: 0.7680\n",
            "Epoch 15/30\n",
            "57/57 [==============================] - 0s 743us/step - loss: 0.1674 - accuracy: 0.7680\n",
            "Epoch 16/30\n",
            "57/57 [==============================] - 0s 740us/step - loss: 0.1664 - accuracy: 0.7680\n",
            "Epoch 17/30\n",
            "57/57 [==============================] - 0s 1ms/step - loss: 0.1655 - accuracy: 0.7680\n",
            "Epoch 18/30\n",
            "57/57 [==============================] - 0s 800us/step - loss: 0.1649 - accuracy: 0.7680\n",
            "Epoch 19/30\n",
            "57/57 [==============================] - 0s 902us/step - loss: 0.1641 - accuracy: 0.7680\n",
            "Epoch 20/30\n",
            "57/57 [==============================] - 0s 761us/step - loss: 0.1638 - accuracy: 0.7680\n",
            "Epoch 21/30\n",
            "57/57 [==============================] - 0s 863us/step - loss: 0.1632 - accuracy: 0.7680\n",
            "Epoch 22/30\n",
            "57/57 [==============================] - 0s 791us/step - loss: 0.1627 - accuracy: 0.7680\n",
            "Epoch 23/30\n",
            "57/57 [==============================] - 0s 753us/step - loss: 0.1624 - accuracy: 0.7680\n",
            "Epoch 24/30\n",
            "57/57 [==============================] - 0s 738us/step - loss: 0.1618 - accuracy: 0.7680\n",
            "Epoch 25/30\n",
            "57/57 [==============================] - 0s 747us/step - loss: 0.1618 - accuracy: 0.7680\n",
            "Epoch 26/30\n",
            "57/57 [==============================] - 0s 818us/step - loss: 0.1609 - accuracy: 0.7680\n",
            "Epoch 27/30\n",
            "57/57 [==============================] - 0s 767us/step - loss: 0.1605 - accuracy: 0.7680\n",
            "Epoch 28/30\n",
            "57/57 [==============================] - 0s 731us/step - loss: 0.1602 - accuracy: 0.7680\n",
            "Epoch 29/30\n",
            "57/57 [==============================] - 0s 826us/step - loss: 0.1600 - accuracy: 0.7680\n",
            "Epoch 30/30\n",
            "57/57 [==============================] - 0s 792us/step - loss: 0.1597 - accuracy: 0.7680\n"
          ],
          "name": "stdout"
        },
        {
          "output_type": "execute_result",
          "data": {
            "text/plain": [
              "<tensorflow.python.keras.callbacks.History at 0x7fed96831fd0>"
            ]
          },
          "metadata": {
            "tags": []
          },
          "execution_count": 26
        }
      ]
    },
    {
      "cell_type": "markdown",
      "metadata": {
        "id": "pYL-Sloei4z8"
      },
      "source": [
        "#### 모델 평가하기"
      ]
    },
    {
      "cell_type": "code",
      "metadata": {
        "id": "YoLECP-XipSD",
        "outputId": "39350bc9-4247-4b55-9569-a1e28d7e730a",
        "colab": {
          "base_uri": "https://localhost:8080/",
          "height": 52
        }
      },
      "source": [
        "model.evaluate(X_test,Y_test)"
      ],
      "execution_count": 27,
      "outputs": [
        {
          "output_type": "stream",
          "text": [
            "5/5 [==============================] - 0s 1ms/step - loss: 0.1323 - accuracy: 0.8252\n"
          ],
          "name": "stdout"
        },
        {
          "output_type": "execute_result",
          "data": {
            "text/plain": [
              "[0.1323302835226059, 0.8251748085021973]"
            ]
          },
          "metadata": {
            "tags": []
          },
          "execution_count": 27
        }
      ]
    },
    {
      "cell_type": "markdown",
      "metadata": {
        "id": "a_PlceDDi9er"
      },
      "source": [
        "#### 모델 예측하기"
      ]
    },
    {
      "cell_type": "code",
      "metadata": {
        "id": "DggfcwWUi85y",
        "outputId": "78f754ab-9240-4070-a7f0-45539776b673",
        "colab": {
          "base_uri": "https://localhost:8080/",
          "height": 140
        }
      },
      "source": [
        "pred = model.predict_classes(X_test)\n",
        "pred.ravel()"
      ],
      "execution_count": 31,
      "outputs": [
        {
          "output_type": "execute_result",
          "data": {
            "text/plain": [
              "array([1, 1, 1, 0, 0, 1, 0, 0, 0, 0, 0, 1, 0, 1, 1, 0, 1, 1, 0, 0, 0, 1,\n",
              "       1, 1, 1, 1, 0, 1, 0, 0, 0, 0, 1, 1, 1, 0, 0, 0, 0, 1, 0, 0, 1, 0,\n",
              "       1, 0, 0, 0, 1, 0, 0, 0, 0, 0, 1, 1, 0, 0, 1, 0, 1, 0, 0, 1, 0, 1,\n",
              "       0, 0, 0, 0, 1, 0, 0, 0, 0, 0, 1, 1, 0, 1, 1, 1, 0, 0, 0, 0, 0, 0,\n",
              "       1, 1, 0, 0, 0, 1, 1, 1, 0, 1, 1, 0, 0, 0, 0, 1, 1, 0, 0, 0, 0, 0,\n",
              "       1, 1, 0, 1, 1, 0, 0, 0, 0, 0, 1, 0, 0, 1, 0, 1, 0, 0, 0, 0, 0, 1,\n",
              "       0, 1, 0, 0, 0, 1, 0, 1, 1, 0, 1], dtype=int32)"
            ]
          },
          "metadata": {
            "tags": []
          },
          "execution_count": 31
        }
      ]
    },
    {
      "cell_type": "code",
      "metadata": {
        "id": "cMoIrre4jFB3",
        "outputId": "522879cc-1da7-4f70-fb52-86532a55dd86",
        "colab": {
          "base_uri": "https://localhost:8080/",
          "height": 402
        }
      },
      "source": [
        "comparison = pd.DataFrame({'prediction':pred.ravel(), 'ground_truth':Y_test.astype(int)})\n",
        "comparison"
      ],
      "execution_count": 33,
      "outputs": [
        {
          "output_type": "execute_result",
          "data": {
            "text/html": [
              "<div>\n",
              "<style scoped>\n",
              "    .dataframe tbody tr th:only-of-type {\n",
              "        vertical-align: middle;\n",
              "    }\n",
              "\n",
              "    .dataframe tbody tr th {\n",
              "        vertical-align: top;\n",
              "    }\n",
              "\n",
              "    .dataframe thead th {\n",
              "        text-align: right;\n",
              "    }\n",
              "</style>\n",
              "<table border=\"1\" class=\"dataframe\">\n",
              "  <thead>\n",
              "    <tr style=\"text-align: right;\">\n",
              "      <th></th>\n",
              "      <th>prediction</th>\n",
              "      <th>ground_truth</th>\n",
              "    </tr>\n",
              "  </thead>\n",
              "  <tbody>\n",
              "    <tr>\n",
              "      <th>0</th>\n",
              "      <td>1</td>\n",
              "      <td>0</td>\n",
              "    </tr>\n",
              "    <tr>\n",
              "      <th>1</th>\n",
              "      <td>1</td>\n",
              "      <td>1</td>\n",
              "    </tr>\n",
              "    <tr>\n",
              "      <th>2</th>\n",
              "      <td>1</td>\n",
              "      <td>1</td>\n",
              "    </tr>\n",
              "    <tr>\n",
              "      <th>3</th>\n",
              "      <td>0</td>\n",
              "      <td>0</td>\n",
              "    </tr>\n",
              "    <tr>\n",
              "      <th>4</th>\n",
              "      <td>0</td>\n",
              "      <td>0</td>\n",
              "    </tr>\n",
              "    <tr>\n",
              "      <th>...</th>\n",
              "      <td>...</td>\n",
              "      <td>...</td>\n",
              "    </tr>\n",
              "    <tr>\n",
              "      <th>138</th>\n",
              "      <td>0</td>\n",
              "      <td>0</td>\n",
              "    </tr>\n",
              "    <tr>\n",
              "      <th>139</th>\n",
              "      <td>1</td>\n",
              "      <td>1</td>\n",
              "    </tr>\n",
              "    <tr>\n",
              "      <th>140</th>\n",
              "      <td>1</td>\n",
              "      <td>1</td>\n",
              "    </tr>\n",
              "    <tr>\n",
              "      <th>141</th>\n",
              "      <td>0</td>\n",
              "      <td>0</td>\n",
              "    </tr>\n",
              "    <tr>\n",
              "      <th>142</th>\n",
              "      <td>1</td>\n",
              "      <td>1</td>\n",
              "    </tr>\n",
              "  </tbody>\n",
              "</table>\n",
              "<p>143 rows × 2 columns</p>\n",
              "</div>"
            ],
            "text/plain": [
              "     prediction  ground_truth\n",
              "0             1             0\n",
              "1             1             1\n",
              "2             1             1\n",
              "3             0             0\n",
              "4             0             0\n",
              "..          ...           ...\n",
              "138           0             0\n",
              "139           1             1\n",
              "140           1             1\n",
              "141           0             0\n",
              "142           1             1\n",
              "\n",
              "[143 rows x 2 columns]"
            ]
          },
          "metadata": {
            "tags": []
          },
          "execution_count": 33
        }
      ]
    }
  ]
}