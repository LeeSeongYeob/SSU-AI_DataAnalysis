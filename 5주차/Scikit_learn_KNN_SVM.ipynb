{
  "nbformat": 4,
  "nbformat_minor": 0,
  "metadata": {
    "colab": {
      "name": "Scikit-learn_KNN_SVM.ipynb",
      "provenance": [],
      "collapsed_sections": []
    },
    "kernelspec": {
      "name": "python3",
      "display_name": "Python 3"
    },
    "accelerator": "GPU"
  },
  "cells": [
    {
      "cell_type": "markdown",
      "metadata": {
        "id": "J-OkK82Dt3Rj"
      },
      "source": [
        "# Scikit learn 예제\n",
        "- 농구선수의 게임 데이터를 활용한 포지션 예측"
      ]
    },
    {
      "cell_type": "code",
      "metadata": {
        "id": "YtxIdaqZpTh1"
      },
      "source": [
        "import pandas as pd\n",
        "from sklearn.model_selection import train_test_split"
      ],
      "execution_count": 1,
      "outputs": []
    },
    {
      "cell_type": "code",
      "metadata": {
        "id": "UBnGP-mYrrpg",
        "outputId": "ae36efac-09b4-44a9-cf0f-84b955654237",
        "colab": {
          "base_uri": "https://localhost:8080/",
          "height": 281
        }
      },
      "source": [
        "data = pd.read_csv(\"./basketball_stat.csv\")\n",
        "data = data[:100]\n",
        "data.info()"
      ],
      "execution_count": 2,
      "outputs": [
        {
          "output_type": "stream",
          "text": [
            "<class 'pandas.core.frame.DataFrame'>\n",
            "RangeIndex: 100 entries, 0 to 99\n",
            "Data columns (total 8 columns):\n",
            " #   Column  Non-Null Count  Dtype  \n",
            "---  ------  --------------  -----  \n",
            " 0   Player  100 non-null    object \n",
            " 1   Pos     100 non-null    object \n",
            " 2   3P      100 non-null    float64\n",
            " 3   2P      100 non-null    float64\n",
            " 4   TRB     100 non-null    float64\n",
            " 5   AST     100 non-null    float64\n",
            " 6   STL     100 non-null    float64\n",
            " 7   BLK     100 non-null    float64\n",
            "dtypes: float64(6), object(2)\n",
            "memory usage: 6.4+ KB\n"
          ],
          "name": "stdout"
        }
      ]
    },
    {
      "cell_type": "code",
      "metadata": {
        "id": "050r9lvFryuA",
        "outputId": "f6923969-71aa-4168-991a-c6bd83f18518",
        "colab": {
          "base_uri": "https://localhost:8080/",
          "height": 52
        }
      },
      "source": [
        "# 8:2 비율로 나눔\n",
        "train, test = train_test_split(data,test_size = 0.2)\n",
        "print(train.shape)\n",
        "print(test.shape)"
      ],
      "execution_count": 3,
      "outputs": [
        {
          "output_type": "stream",
          "text": [
            "(80, 8)\n",
            "(20, 8)\n"
          ],
          "name": "stdout"
        }
      ]
    },
    {
      "cell_type": "markdown",
      "metadata": {
        "id": "MpF46afY1F3d"
      },
      "source": [
        "#### train data 정제"
      ]
    },
    {
      "cell_type": "code",
      "metadata": {
        "id": "GobSAdZ9sDAe"
      },
      "source": [
        "x_train = train[['3P','BLK','TRB']]\n",
        "y_train = train[['Pos']]"
      ],
      "execution_count": 4,
      "outputs": []
    },
    {
      "cell_type": "code",
      "metadata": {
        "id": "FLTDGWkYul_M"
      },
      "source": [
        "x_train = x_train.values"
      ],
      "execution_count": 5,
      "outputs": []
    },
    {
      "cell_type": "code",
      "metadata": {
        "id": "ksnTALG7ypoa",
        "outputId": "6dbfa802-283d-4745-9610-2a719bb9d77f",
        "colab": {
          "base_uri": "https://localhost:8080/",
          "height": 140
        }
      },
      "source": [
        "y_train = y_train.values.ravel()\n",
        "y_train"
      ],
      "execution_count": 6,
      "outputs": [
        {
          "output_type": "execute_result",
          "data": {
            "text/plain": [
              "array(['C', 'SG', 'SG', 'C', 'SG', 'C', 'SG', 'SG', 'C', 'C', 'SG', 'SG',\n",
              "       'SG', 'SG', 'SG', 'C', 'SG', 'C', 'C', 'C', 'C', 'SG', 'SG', 'C',\n",
              "       'SG', 'SG', 'C', 'SG', 'C', 'SG', 'SG', 'SG', 'SG', 'SG', 'SG',\n",
              "       'C', 'SG', 'SG', 'SG', 'C', 'C', 'C', 'SG', 'SG', 'SG', 'SG', 'SG',\n",
              "       'SG', 'C', 'SG', 'C', 'SG', 'SG', 'C', 'C', 'C', 'C', 'SG', 'SG',\n",
              "       'SG', 'SG', 'C', 'SG', 'SG', 'C', 'SG', 'C', 'SG', 'C', 'C', 'SG',\n",
              "       'SG', 'C', 'C', 'SG', 'C', 'SG', 'SG', 'SG', 'SG'], dtype=object)"
            ]
          },
          "metadata": {
            "tags": []
          },
          "execution_count": 6
        }
      ]
    },
    {
      "cell_type": "markdown",
      "metadata": {
        "id": "L4rwcsbc1AxH"
      },
      "source": [
        "#### test data 정제"
      ]
    },
    {
      "cell_type": "code",
      "metadata": {
        "id": "GoPzH6YN1gFA"
      },
      "source": [
        "x_test = test[['3P','BLK','TRB']]\n",
        "y_test = test['Pos']"
      ],
      "execution_count": 7,
      "outputs": []
    },
    {
      "cell_type": "code",
      "metadata": {
        "id": "PoqKtiDa1lUj"
      },
      "source": [
        "x_test = x_test.values\n",
        "y_test = y_test.values"
      ],
      "execution_count": 8,
      "outputs": []
    },
    {
      "cell_type": "code",
      "metadata": {
        "id": "aac8KtOVy6qB"
      },
      "source": [
        "from sklearn.neighbors import KNeighborsClassifier "
      ],
      "execution_count": 9,
      "outputs": []
    },
    {
      "cell_type": "code",
      "metadata": {
        "id": "mDI9xUaI0vyF",
        "outputId": "e47534a5-b032-473b-c3e9-09776fb1051a",
        "colab": {
          "base_uri": "https://localhost:8080/",
          "height": 70
        }
      },
      "source": [
        "knn = KNeighborsClassifier(n_neighbors=3)\n",
        "knn.fit(x_train,y_train)"
      ],
      "execution_count": 10,
      "outputs": [
        {
          "output_type": "execute_result",
          "data": {
            "text/plain": [
              "KNeighborsClassifier(algorithm='auto', leaf_size=30, metric='minkowski',\n",
              "                     metric_params=None, n_jobs=None, n_neighbors=3, p=2,\n",
              "                     weights='uniform')"
            ]
          },
          "metadata": {
            "tags": []
          },
          "execution_count": 10
        }
      ]
    },
    {
      "cell_type": "code",
      "metadata": {
        "id": "uttP4oBn02XK",
        "outputId": "f1c593c0-947f-46f1-9fd0-16efe4a455e8",
        "colab": {
          "base_uri": "https://localhost:8080/",
          "height": 52
        }
      },
      "source": [
        "pred_knn = knn.predict(x_test)\n",
        "pred_knn"
      ],
      "execution_count": 11,
      "outputs": [
        {
          "output_type": "execute_result",
          "data": {
            "text/plain": [
              "array(['C', 'SG', 'C', 'C', 'C', 'C', 'SG', 'C', 'SG', 'SG', 'SG', 'SG',\n",
              "       'SG', 'SG', 'SG', 'SG', 'SG', 'SG', 'C', 'SG'], dtype=object)"
            ]
          },
          "metadata": {
            "tags": []
          },
          "execution_count": 11
        }
      ]
    },
    {
      "cell_type": "markdown",
      "metadata": {
        "id": "UGJDPm7k2DiH"
      },
      "source": [
        "#### 모델 예측 정확도 확인"
      ]
    },
    {
      "cell_type": "code",
      "metadata": {
        "id": "G3QAm57S2GLW"
      },
      "source": [
        "from sklearn import metrics"
      ],
      "execution_count": 12,
      "outputs": []
    },
    {
      "cell_type": "code",
      "metadata": {
        "id": "vqlKdiiy2HzT",
        "outputId": "f7d6d7ef-47e0-4d88-ad78-a484708cc1d0",
        "colab": {
          "base_uri": "https://localhost:8080/",
          "height": 34
        }
      },
      "source": [
        "acc_score = metrics.accuracy_score(pred_knn,y_test)\n",
        "print(\"ACC : \",acc_score * 100)"
      ],
      "execution_count": 13,
      "outputs": [
        {
          "output_type": "stream",
          "text": [
            "ACC :  90.0\n"
          ],
          "name": "stdout"
        }
      ]
    },
    {
      "cell_type": "code",
      "metadata": {
        "id": "xqJuv18H2axF",
        "outputId": "4e505b45-5bd6-45bb-92c5-b3ed3632baab",
        "colab": {
          "base_uri": "https://localhost:8080/",
          "height": 639
        }
      },
      "source": [
        "comparison = pd.DataFrame({'prediction':pred_knn,'Truth':y_test})\n",
        "comparison"
      ],
      "execution_count": 14,
      "outputs": [
        {
          "output_type": "execute_result",
          "data": {
            "text/html": [
              "<div>\n",
              "<style scoped>\n",
              "    .dataframe tbody tr th:only-of-type {\n",
              "        vertical-align: middle;\n",
              "    }\n",
              "\n",
              "    .dataframe tbody tr th {\n",
              "        vertical-align: top;\n",
              "    }\n",
              "\n",
              "    .dataframe thead th {\n",
              "        text-align: right;\n",
              "    }\n",
              "</style>\n",
              "<table border=\"1\" class=\"dataframe\">\n",
              "  <thead>\n",
              "    <tr style=\"text-align: right;\">\n",
              "      <th></th>\n",
              "      <th>prediction</th>\n",
              "      <th>Truth</th>\n",
              "    </tr>\n",
              "  </thead>\n",
              "  <tbody>\n",
              "    <tr>\n",
              "      <th>0</th>\n",
              "      <td>C</td>\n",
              "      <td>C</td>\n",
              "    </tr>\n",
              "    <tr>\n",
              "      <th>1</th>\n",
              "      <td>SG</td>\n",
              "      <td>SG</td>\n",
              "    </tr>\n",
              "    <tr>\n",
              "      <th>2</th>\n",
              "      <td>C</td>\n",
              "      <td>C</td>\n",
              "    </tr>\n",
              "    <tr>\n",
              "      <th>3</th>\n",
              "      <td>C</td>\n",
              "      <td>SG</td>\n",
              "    </tr>\n",
              "    <tr>\n",
              "      <th>4</th>\n",
              "      <td>C</td>\n",
              "      <td>C</td>\n",
              "    </tr>\n",
              "    <tr>\n",
              "      <th>5</th>\n",
              "      <td>C</td>\n",
              "      <td>C</td>\n",
              "    </tr>\n",
              "    <tr>\n",
              "      <th>6</th>\n",
              "      <td>SG</td>\n",
              "      <td>SG</td>\n",
              "    </tr>\n",
              "    <tr>\n",
              "      <th>7</th>\n",
              "      <td>C</td>\n",
              "      <td>C</td>\n",
              "    </tr>\n",
              "    <tr>\n",
              "      <th>8</th>\n",
              "      <td>SG</td>\n",
              "      <td>SG</td>\n",
              "    </tr>\n",
              "    <tr>\n",
              "      <th>9</th>\n",
              "      <td>SG</td>\n",
              "      <td>SG</td>\n",
              "    </tr>\n",
              "    <tr>\n",
              "      <th>10</th>\n",
              "      <td>SG</td>\n",
              "      <td>SG</td>\n",
              "    </tr>\n",
              "    <tr>\n",
              "      <th>11</th>\n",
              "      <td>SG</td>\n",
              "      <td>SG</td>\n",
              "    </tr>\n",
              "    <tr>\n",
              "      <th>12</th>\n",
              "      <td>SG</td>\n",
              "      <td>SG</td>\n",
              "    </tr>\n",
              "    <tr>\n",
              "      <th>13</th>\n",
              "      <td>SG</td>\n",
              "      <td>C</td>\n",
              "    </tr>\n",
              "    <tr>\n",
              "      <th>14</th>\n",
              "      <td>SG</td>\n",
              "      <td>SG</td>\n",
              "    </tr>\n",
              "    <tr>\n",
              "      <th>15</th>\n",
              "      <td>SG</td>\n",
              "      <td>SG</td>\n",
              "    </tr>\n",
              "    <tr>\n",
              "      <th>16</th>\n",
              "      <td>SG</td>\n",
              "      <td>SG</td>\n",
              "    </tr>\n",
              "    <tr>\n",
              "      <th>17</th>\n",
              "      <td>SG</td>\n",
              "      <td>SG</td>\n",
              "    </tr>\n",
              "    <tr>\n",
              "      <th>18</th>\n",
              "      <td>C</td>\n",
              "      <td>C</td>\n",
              "    </tr>\n",
              "    <tr>\n",
              "      <th>19</th>\n",
              "      <td>SG</td>\n",
              "      <td>SG</td>\n",
              "    </tr>\n",
              "  </tbody>\n",
              "</table>\n",
              "</div>"
            ],
            "text/plain": [
              "   prediction Truth\n",
              "0           C     C\n",
              "1          SG    SG\n",
              "2           C     C\n",
              "3           C    SG\n",
              "4           C     C\n",
              "5           C     C\n",
              "6          SG    SG\n",
              "7           C     C\n",
              "8          SG    SG\n",
              "9          SG    SG\n",
              "10         SG    SG\n",
              "11         SG    SG\n",
              "12         SG    SG\n",
              "13         SG     C\n",
              "14         SG    SG\n",
              "15         SG    SG\n",
              "16         SG    SG\n",
              "17         SG    SG\n",
              "18          C     C\n",
              "19         SG    SG"
            ]
          },
          "metadata": {
            "tags": []
          },
          "execution_count": 14
        }
      ]
    },
    {
      "cell_type": "code",
      "metadata": {
        "id": "ZJUgBKh02kYN"
      },
      "source": [
        "from sklearn import svm\n",
        "import matplotlib.pyplot as plt\n"
      ],
      "execution_count": 15,
      "outputs": []
    },
    {
      "cell_type": "code",
      "metadata": {
        "id": "im9w2UbU79Ub"
      },
      "source": [
        "C = [0.01,0.03,0.1,0.3,1,3,10]\n",
        "gamma = [0.01,0.03,0.1,0.3,1,3,10]\n",
        "\n",
        "xlabel = [(i,j) for i in C for j in gamma]"
      ],
      "execution_count": 16,
      "outputs": []
    },
    {
      "cell_type": "markdown",
      "metadata": {
        "id": "C3iruWxN-8S7"
      },
      "source": [
        "#### gamma 값과 C 값에 따른 정확도 변화"
      ]
    },
    {
      "cell_type": "code",
      "metadata": {
        "id": "EIsQxhIc3j0i",
        "outputId": "d47efdee-7cf9-4972-c9da-4b138208ec30",
        "colab": {
          "base_uri": "https://localhost:8080/",
          "height": 282
        }
      },
      "source": [
        "Acc = list()\n",
        "max_acc = 0\n",
        "val = tuple()\n",
        "for c in C:\n",
        "    for gam in gamma:\n",
        "        clf = svm.SVC(C= c,gamma = gam)\n",
        "        clf.fit(x_train,y_train)\n",
        "        pred_svm = clf.predict(x_test)\n",
        "        acc_score = metrics.accuracy_score(y_test,pred_svm)\n",
        "        Acc.append(acc_score)\n",
        "        if max_acc < acc_score:\n",
        "            max_acc = acc_score\n",
        "            val = (c,gam)\n",
        "\n",
        "plt.figure()\n",
        "plt.plot(Acc)\n",
        "plt.grid()\n",
        "plt.show()\n",
        "print(f\"최대 정확도 : {max_acc * 100}%, C와 gamma값 : {val}\")"
      ],
      "execution_count": 17,
      "outputs": [
        {
          "output_type": "display_data",
          "data": {
            "image/png": "[encoded data removed]",
            "text/plain": [
              "<Figure size 432x288 with 1 Axes>"
            ]
          },
          "metadata": {
            "tags": [],
            "needs_background": "light"
          }
        },
        {
          "output_type": "stream",
          "text": [
            "최대 정확도 : 95.0%, C와 gamma값 : (0.1, 0.1)\n"
          ],
          "name": "stdout"
        }
      ]
    },
    {
      "cell_type": "code",
      "metadata": {
        "id": "-Q_4rhBT3p-l",
        "outputId": "9d6feb1b-61f3-4eee-cf1e-3a1011388b8f",
        "colab": {
          "base_uri": "https://localhost:8080/",
          "height": 52
        }
      },
      "source": [
        "pred_svm = clf.predict(x_test)\n",
        "pred_svm"
      ],
      "execution_count": 18,
      "outputs": [
        {
          "output_type": "execute_result",
          "data": {
            "text/plain": [
              "array(['C', 'SG', 'SG', 'C', 'SG', 'C', 'SG', 'SG', 'SG', 'SG', 'SG',\n",
              "       'SG', 'SG', 'SG', 'SG', 'SG', 'SG', 'SG', 'C', 'SG'], dtype=object)"
            ]
          },
          "metadata": {
            "tags": []
          },
          "execution_count": 18
        }
      ]
    },
    {
      "cell_type": "code",
      "metadata": {
        "id": "1CY4ONp53vHR",
        "outputId": "de76fef6-a648-4f66-e458-873856250946",
        "colab": {
          "base_uri": "https://localhost:8080/",
          "height": 34
        }
      },
      "source": [
        "acc_score = metrics.accuracy_score(y_test,pred_svm)\n",
        "print(\"ACC : \",acc_score)"
      ],
      "execution_count": 19,
      "outputs": [
        {
          "output_type": "stream",
          "text": [
            "ACC :  0.75\n"
          ],
          "name": "stdout"
        }
      ]
    }
  ]
}