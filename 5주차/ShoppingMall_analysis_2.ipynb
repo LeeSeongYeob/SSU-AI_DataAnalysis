{
  "nbformat": 4,
  "nbformat_minor": 0,
  "metadata": {
    "colab": {
      "name": "ShoppingMall_analysis_2.ipynb",
      "provenance": [],
      "collapsed_sections": []
    },
    "kernelspec": {
      "name": "python3",
      "display_name": "Python 3"
    }
  },
  "cells": [
    {
      "cell_type": "markdown",
      "metadata": {
        "id": "Z63qoALy5Mo_"
      },
      "source": [
        "# 쇼핑몰 매출분석 2\n",
        "### 온라인 쇼핑몰 매출 분석 \n",
        "   - 전체, 국가별 판매 지표 확인하기\n",
        "   - 시간별 지역별 판매 지표 확인하기\n",
        "   - 제품별 판매 지표 확인하기\n"
      ]
    },
    {
      "cell_type": "code",
      "metadata": {
        "id": "oMGEJOX55RAo"
      },
      "source": [
        "import numpy as np\n",
        "import pandas as pd\n",
        "import matplotlib.pyplot as plt"
      ],
      "execution_count": 1,
      "outputs": []
    },
    {
      "cell_type": "markdown",
      "metadata": {
        "id": "_GeNWHM95iec"
      },
      "source": [
        "#### 데이터 로딩"
      ]
    },
    {
      "cell_type": "code",
      "metadata": {
        "id": "EsWodGYa5XK7",
        "outputId": "a97a2743-2a48-41c8-ee5d-5feab2085d28",
        "colab": {
          "base_uri": "https://localhost:8080/",
          "height": 195
        }
      },
      "source": [
        "retail = pd.read_csv('./OnlineRetailClean.csv')\n",
        "retail.head()"
      ],
      "execution_count": 2,
      "outputs": [
        {
          "output_type": "execute_result",
          "data": {
            "text/html": [
              "<div>\n",
              "<style scoped>\n",
              "    .dataframe tbody tr th:only-of-type {\n",
              "        vertical-align: middle;\n",
              "    }\n",
              "\n",
              "    .dataframe tbody tr th {\n",
              "        vertical-align: top;\n",
              "    }\n",
              "\n",
              "    .dataframe thead th {\n",
              "        text-align: right;\n",
              "    }\n",
              "</style>\n",
              "<table border=\"1\" class=\"dataframe\">\n",
              "  <thead>\n",
              "    <tr style=\"text-align: right;\">\n",
              "      <th></th>\n",
              "      <th>Unnamed: 0</th>\n",
              "      <th>InvoiceNo</th>\n",
              "      <th>StockCode</th>\n",
              "      <th>Description</th>\n",
              "      <th>Quantity</th>\n",
              "      <th>InvoiceDate</th>\n",
              "      <th>UnitPrice</th>\n",
              "      <th>CustomerID</th>\n",
              "      <th>Country</th>\n",
              "      <th>CheckoutPrice</th>\n",
              "    </tr>\n",
              "  </thead>\n",
              "  <tbody>\n",
              "    <tr>\n",
              "      <th>0</th>\n",
              "      <td>0</td>\n",
              "      <td>536365</td>\n",
              "      <td>85123A</td>\n",
              "      <td>WHITE HANGING HEART T-LIGHT HOLDER</td>\n",
              "      <td>6</td>\n",
              "      <td>12/1/2010 8:26</td>\n",
              "      <td>2.55</td>\n",
              "      <td>17850.0</td>\n",
              "      <td>United Kingdom</td>\n",
              "      <td>15.30</td>\n",
              "    </tr>\n",
              "    <tr>\n",
              "      <th>1</th>\n",
              "      <td>1</td>\n",
              "      <td>536365</td>\n",
              "      <td>71053</td>\n",
              "      <td>WHITE METAL LANTERN</td>\n",
              "      <td>6</td>\n",
              "      <td>12/1/2010 8:26</td>\n",
              "      <td>3.39</td>\n",
              "      <td>17850.0</td>\n",
              "      <td>United Kingdom</td>\n",
              "      <td>20.34</td>\n",
              "    </tr>\n",
              "    <tr>\n",
              "      <th>2</th>\n",
              "      <td>2</td>\n",
              "      <td>536365</td>\n",
              "      <td>84406B</td>\n",
              "      <td>CREAM CUPID HEARTS COAT HANGER</td>\n",
              "      <td>8</td>\n",
              "      <td>12/1/2010 8:26</td>\n",
              "      <td>2.75</td>\n",
              "      <td>17850.0</td>\n",
              "      <td>United Kingdom</td>\n",
              "      <td>22.00</td>\n",
              "    </tr>\n",
              "    <tr>\n",
              "      <th>3</th>\n",
              "      <td>3</td>\n",
              "      <td>536365</td>\n",
              "      <td>84029G</td>\n",
              "      <td>KNITTED UNION FLAG HOT WATER BOTTLE</td>\n",
              "      <td>6</td>\n",
              "      <td>12/1/2010 8:26</td>\n",
              "      <td>3.39</td>\n",
              "      <td>17850.0</td>\n",
              "      <td>United Kingdom</td>\n",
              "      <td>20.34</td>\n",
              "    </tr>\n",
              "    <tr>\n",
              "      <th>4</th>\n",
              "      <td>4</td>\n",
              "      <td>536365</td>\n",
              "      <td>84029E</td>\n",
              "      <td>RED WOOLLY HOTTIE WHITE HEART.</td>\n",
              "      <td>6</td>\n",
              "      <td>12/1/2010 8:26</td>\n",
              "      <td>3.39</td>\n",
              "      <td>17850.0</td>\n",
              "      <td>United Kingdom</td>\n",
              "      <td>20.34</td>\n",
              "    </tr>\n",
              "  </tbody>\n",
              "</table>\n",
              "</div>"
            ],
            "text/plain": [
              "   Unnamed: 0  InvoiceNo StockCode  ... CustomerID         Country CheckoutPrice\n",
              "0           0     536365    85123A  ...    17850.0  United Kingdom         15.30\n",
              "1           1     536365     71053  ...    17850.0  United Kingdom         20.34\n",
              "2           2     536365    84406B  ...    17850.0  United Kingdom         22.00\n",
              "3           3     536365    84029G  ...    17850.0  United Kingdom         20.34\n",
              "4           4     536365    84029E  ...    17850.0  United Kingdom         20.34\n",
              "\n",
              "[5 rows x 10 columns]"
            ]
          },
          "metadata": {
            "tags": []
          },
          "execution_count": 2
        }
      ]
    },
    {
      "cell_type": "markdown",
      "metadata": {
        "id": "3BYX-35_57dx"
      },
      "source": [
        "#### 날짜 타입 데이터 변환\n",
        "- 문자열로 로딩하는 것보다 date/ datetime 타입으로 로딩하는 것이 분석에 용이"
      ]
    },
    {
      "cell_type": "code",
      "metadata": {
        "id": "n5Mn4fGD5n46",
        "outputId": "a1ceb6f7-62c1-4271-ff0f-786cdba8b89f",
        "colab": {
          "base_uri": "https://localhost:8080/",
          "height": 316
        }
      },
      "source": [
        "retail.info()"
      ],
      "execution_count": 3,
      "outputs": [
        {
          "output_type": "stream",
          "text": [
            "<class 'pandas.core.frame.DataFrame'>\n",
            "RangeIndex: 281151 entries, 0 to 281150\n",
            "Data columns (total 10 columns):\n",
            " #   Column         Non-Null Count   Dtype  \n",
            "---  ------         --------------   -----  \n",
            " 0   Unnamed: 0     281151 non-null  int64  \n",
            " 1   InvoiceNo      281151 non-null  int64  \n",
            " 2   StockCode      281151 non-null  object \n",
            " 3   Description    281151 non-null  object \n",
            " 4   Quantity       281151 non-null  int64  \n",
            " 5   InvoiceDate    281151 non-null  object \n",
            " 6   UnitPrice      281151 non-null  float64\n",
            " 7   CustomerID     281151 non-null  float64\n",
            " 8   Country        281151 non-null  object \n",
            " 9   CheckoutPrice  281151 non-null  float64\n",
            "dtypes: float64(3), int64(3), object(4)\n",
            "memory usage: 21.5+ MB\n"
          ],
          "name": "stdout"
        }
      ]
    },
    {
      "cell_type": "code",
      "metadata": {
        "id": "ft90iGnE6CNG",
        "outputId": "313d1e89-9c42-4aa9-8886-318162891572",
        "colab": {
          "base_uri": "https://localhost:8080/",
          "height": 316
        }
      },
      "source": [
        "retail['InvoiceDate'] = pd.to_datetime(retail['InvoiceDate'], infer_datetime_format=True)\n",
        "retail.info()"
      ],
      "execution_count": 4,
      "outputs": [
        {
          "output_type": "stream",
          "text": [
            "<class 'pandas.core.frame.DataFrame'>\n",
            "RangeIndex: 281151 entries, 0 to 281150\n",
            "Data columns (total 10 columns):\n",
            " #   Column         Non-Null Count   Dtype         \n",
            "---  ------         --------------   -----         \n",
            " 0   Unnamed: 0     281151 non-null  int64         \n",
            " 1   InvoiceNo      281151 non-null  int64         \n",
            " 2   StockCode      281151 non-null  object        \n",
            " 3   Description    281151 non-null  object        \n",
            " 4   Quantity       281151 non-null  int64         \n",
            " 5   InvoiceDate    281151 non-null  datetime64[ns]\n",
            " 6   UnitPrice      281151 non-null  float64       \n",
            " 7   CustomerID     281151 non-null  float64       \n",
            " 8   Country        281151 non-null  object        \n",
            " 9   CheckoutPrice  281151 non-null  float64       \n",
            "dtypes: datetime64[ns](1), float64(3), int64(3), object(3)\n",
            "memory usage: 21.5+ MB\n"
          ],
          "name": "stdout"
        }
      ]
    },
    {
      "cell_type": "markdown",
      "metadata": {
        "id": "gbOxDQBE6T3e"
      },
      "source": [
        "#### 해당 기간 동안의 매출\n",
        " - 전체 매출\n",
        " - 국가별 매출\n",
        " - 월별 매출\n",
        " - 요일별 매출\n",
        " - 시간별 매출"
      ]
    },
    {
      "cell_type": "markdown",
      "metadata": {
        "id": "QssIS4tx6eh4"
      },
      "source": [
        "#### 전체 매출"
      ]
    },
    {
      "cell_type": "code",
      "metadata": {
        "id": "PERtWuMv6RWo",
        "outputId": "30281e84-4ba7-48b6-b035-46b49fafc9d6",
        "colab": {
          "base_uri": "https://localhost:8080/",
          "height": 34
        }
      },
      "source": [
        "total = retail['CheckoutPrice'].sum()\n",
        "total"
      ],
      "execution_count": 5,
      "outputs": [
        {
          "output_type": "execute_result",
          "data": {
            "text/plain": [
              "6529793.633999999"
            ]
          },
          "metadata": {
            "tags": []
          },
          "execution_count": 5
        }
      ]
    },
    {
      "cell_type": "markdown",
      "metadata": {
        "id": "PZPqzvj56mP_"
      },
      "source": [
        "#### 국가별 매출"
      ]
    },
    {
      "cell_type": "code",
      "metadata": {
        "id": "5Nzd_9VR6lEl",
        "outputId": "6c1c7b01-6cdb-4828-b4b2-b7a2ce34b7eb",
        "colab": {
          "base_uri": "https://localhost:8080/",
          "height": 686
        }
      },
      "source": [
        "rev_by_countries = retail.groupby('Country').sum()['CheckoutPrice'].sort_values()\n",
        "rev_by_countries"
      ],
      "execution_count": 6,
      "outputs": [
        {
          "output_type": "execute_result",
          "data": {
            "text/plain": [
              "Country\n",
              "Saudi Arabia            1.459200e+02\n",
              "USA                     3.839500e+02\n",
              "Bahrain                 5.484000e+02\n",
              "Czech Republic          8.267400e+02\n",
              "Brazil                  1.143600e+03\n",
              "European Community      1.300250e+03\n",
              "Lithuania               1.661060e+03\n",
              "Lebanon                 1.693880e+03\n",
              "United Arab Emirates    1.902280e+03\n",
              "Malta                   1.982160e+03\n",
              "Unspecified             2.667070e+03\n",
              "Iceland                 2.790860e+03\n",
              "Canada                  3.666380e+03\n",
              "Greece                  4.079530e+03\n",
              "Poland                  5.973420e+03\n",
              "Austria                 7.141920e+03\n",
              "Israel                  7.221690e+03\n",
              "Italy                   9.222020e+03\n",
              "Cyprus                  9.513360e+03\n",
              "Singapore               1.421197e+04\n",
              "Denmark                 1.548751e+04\n",
              "Finland                 1.573096e+04\n",
              "Channel Islands         1.787495e+04\n",
              "Norway                  2.316501e+04\n",
              "Portugal                2.381811e+04\n",
              "Japan                   2.700825e+04\n",
              "Belgium                 2.812415e+04\n",
              "Sweden                  2.965194e+04\n",
              "Switzerland             4.320936e+04\n",
              "Spain                   4.436780e+04\n",
              "Australia               1.312786e+05\n",
              "France                  1.409584e+05\n",
              "Germany                 1.722198e+05\n",
              "Netherlands             2.082410e+05\n",
              "EIRE                    2.092850e+05\n",
              "United Kingdom          5.321296e+06\n",
              "Name: CheckoutPrice, dtype: float64"
            ]
          },
          "metadata": {
            "tags": []
          },
          "execution_count": 6
        }
      ]
    },
    {
      "cell_type": "code",
      "metadata": {
        "id": "8egFzgCp6qpE",
        "outputId": "3fa877ba-a70b-4e1e-8afd-bc647a6ea4a3",
        "colab": {
          "base_uri": "https://localhost:8080/",
          "height": 720
        }
      },
      "source": [
        "plt.figure(figsize=(20,10))\n",
        "plt.bar(rev_by_countries.index, rev_by_countries.values, tick_label=rev_by_countries.index)\n",
        "plt.xlabel('Country',fontsize=11)\n",
        "plt.ylabel('Revenue',fontsize=11)\n",
        "plt.title('Revenue by country',fontsize=13)\n",
        "plt.xticks(rotation=90)\n",
        "plt.show()"
      ],
      "execution_count": 7,
      "outputs": [
        {
          "output_type": "display_data",
          "data": {
            "image/png": "[encoded data removed]",
            "text/plain": [
              "<Figure size 1440x720 with 1 Axes>"
            ]
          },
          "metadata": {
            "tags": [],
            "needs_background": "light"
          }
        }
      ]
    },
    {
      "cell_type": "code",
      "metadata": {
        "id": "rC3w5crx7SAm",
        "outputId": "e299d4f0-188e-4c5b-9152-41ed478a74de",
        "colab": {
          "base_uri": "https://localhost:8080/",
          "height": 686
        }
      },
      "source": [
        "# 국가별 판매량\n",
        "rev_by_countries / total"
      ],
      "execution_count": 8,
      "outputs": [
        {
          "output_type": "execute_result",
          "data": {
            "text/plain": [
              "Country\n",
              "Saudi Arabia            0.000022\n",
              "USA                     0.000059\n",
              "Bahrain                 0.000084\n",
              "Czech Republic          0.000127\n",
              "Brazil                  0.000175\n",
              "European Community      0.000199\n",
              "Lithuania               0.000254\n",
              "Lebanon                 0.000259\n",
              "United Arab Emirates    0.000291\n",
              "Malta                   0.000304\n",
              "Unspecified             0.000408\n",
              "Iceland                 0.000427\n",
              "Canada                  0.000561\n",
              "Greece                  0.000625\n",
              "Poland                  0.000915\n",
              "Austria                 0.001094\n",
              "Israel                  0.001106\n",
              "Italy                   0.001412\n",
              "Cyprus                  0.001457\n",
              "Singapore               0.002176\n",
              "Denmark                 0.002372\n",
              "Finland                 0.002409\n",
              "Channel Islands         0.002737\n",
              "Norway                  0.003548\n",
              "Portugal                0.003648\n",
              "Japan                   0.004136\n",
              "Belgium                 0.004307\n",
              "Sweden                  0.004541\n",
              "Switzerland             0.006617\n",
              "Spain                   0.006795\n",
              "Australia               0.020105\n",
              "France                  0.021587\n",
              "Germany                 0.026374\n",
              "Netherlands             0.031891\n",
              "EIRE                    0.032051\n",
              "United Kingdom          0.814926\n",
              "Name: CheckoutPrice, dtype: float64"
            ]
          },
          "metadata": {
            "tags": []
          },
          "execution_count": 8
        }
      ]
    },
    {
      "cell_type": "markdown",
      "metadata": {
        "id": "2I5nS4Tw8dBs"
      },
      "source": [
        "#### 월별 매출"
      ]
    },
    {
      "cell_type": "code",
      "metadata": {
        "id": "ArizsxMp8Z--",
        "outputId": "c624be0f-45a3-4822-c4af-8640970243bf",
        "colab": {
          "base_uri": "https://localhost:8080/",
          "height": 228
        }
      },
      "source": [
        "retail['InvoiceDate'].sort_values(ascending=True)"
      ],
      "execution_count": 9,
      "outputs": [
        {
          "output_type": "execute_result",
          "data": {
            "text/plain": [
              "0        2010-12-01 08:26:00\n",
              "1        2010-12-01 08:26:00\n",
              "2        2010-12-01 08:26:00\n",
              "3        2010-12-01 08:26:00\n",
              "4        2010-12-01 08:26:00\n",
              "                 ...        \n",
              "281127   2011-10-10 14:02:00\n",
              "281126   2011-10-10 14:02:00\n",
              "281149   2011-10-10 14:02:00\n",
              "281137   2011-10-10 14:02:00\n",
              "281150   2011-10-10 14:02:00\n",
              "Name: InvoiceDate, Length: 281151, dtype: datetime64[ns]"
            ]
          },
          "metadata": {
            "tags": []
          },
          "execution_count": 9
        }
      ]
    },
    {
      "cell_type": "code",
      "metadata": {
        "id": "JUoYA3yHAais"
      },
      "source": [
        "month = []\n",
        "dow = []  #day of week\n",
        "hour = []\n",
        "          #[0,1,2,3,4.......397883]\n",
        "for i in range(len(retail['InvoiceDate'])) :   #InvoiceDate 행 개수만큼 반복\n",
        "\n",
        "        if retail['InvoiceDate'][i].month < 10 : #월에서 1월은 01월로 표현하기 위해            \n",
        "            month.append(str(retail['InvoiceDate'][i].year) + '0' + str(retail['InvoiceDate'][i].month))  #Datatime 객체 형식 InvoiceDate에서 년도와 월만 분리\n",
        "        else :\n",
        "            month.append(str(retail['InvoiceDate'][i].year) + str(retail['InvoiceDate'][i].month))  #Datatime 객체 형식 InvoiceDate에서 년도와 월만 분리\n",
        "      \n",
        "        dow.append(retail['InvoiceDate'][i].dayofweek)    #Datatime 객체 형식 InvoiceDate에서 요일만 분리  \n",
        "        hour.append(retail['InvoiceDate'][i].hour)    #Datatime 객체 형식 InvoiceDate에서 시간만 분리"
      ],
      "execution_count": 10,
      "outputs": []
    },
    {
      "cell_type": "code",
      "metadata": {
        "id": "0eXjie_sAf5z",
        "outputId": "d5e12e97-1e2e-48d1-c266-ed9c4dbeab8d",
        "colab": {
          "base_uri": "https://localhost:8080/",
          "height": 34
        }
      },
      "source": [
        "len(month)"
      ],
      "execution_count": 11,
      "outputs": [
        {
          "output_type": "execute_result",
          "data": {
            "text/plain": [
              "281151"
            ]
          },
          "metadata": {
            "tags": []
          },
          "execution_count": 11
        }
      ]
    },
    {
      "cell_type": "code",
      "metadata": {
        "id": "wJ2ECMixAkgz",
        "outputId": "4ccc0593-b39b-41dc-d47f-9b337b47b47a",
        "colab": {
          "base_uri": "https://localhost:8080/",
          "height": 87
        }
      },
      "source": [
        "retail['InvoiceDate_month'] = month\n",
        "retail['InvoiceDate_dow'] = dow\n",
        "retail['InvoiceDate_hour'] = hour\n",
        "\n",
        "retail.columns"
      ],
      "execution_count": 12,
      "outputs": [
        {
          "output_type": "execute_result",
          "data": {
            "text/plain": [
              "Index(['Unnamed: 0', 'InvoiceNo', 'StockCode', 'Description', 'Quantity',\n",
              "       'InvoiceDate', 'UnitPrice', 'CustomerID', 'Country', 'CheckoutPrice',\n",
              "       'InvoiceDate_month', 'InvoiceDate_dow', 'InvoiceDate_hour'],\n",
              "      dtype='object')"
            ]
          },
          "metadata": {
            "tags": []
          },
          "execution_count": 12
        }
      ]
    },
    {
      "cell_type": "code",
      "metadata": {
        "id": "WD9x5myoAnw2",
        "outputId": "98d2ebd8-6d7b-47c9-82e7-c0e5d63fdd27",
        "colab": {
          "base_uri": "https://localhost:8080/",
          "height": 246
        }
      },
      "source": [
        "rev_by_month = retail.groupby('InvoiceDate_month').sum()['CheckoutPrice']\n",
        "rev_by_month"
      ],
      "execution_count": 13,
      "outputs": [
        {
          "output_type": "execute_result",
          "data": {
            "text/plain": [
              "InvoiceDate_month\n",
              "201012    572713.890\n",
              "201101    569445.040\n",
              "201102    447137.350\n",
              "201103    595500.760\n",
              "201104    469200.361\n",
              "201105    678594.560\n",
              "201106    661213.690\n",
              "201107    600091.011\n",
              "201108    645343.900\n",
              "201109    952838.382\n",
              "201110    337714.690\n",
              "Name: CheckoutPrice, dtype: float64"
            ]
          },
          "metadata": {
            "tags": []
          },
          "execution_count": 13
        }
      ]
    },
    {
      "cell_type": "code",
      "metadata": {
        "id": "rGrC7R_fBAr0",
        "outputId": "b6bb3b96-4a6e-41c9-c3e3-58d39f81f588",
        "colab": {
          "base_uri": "https://localhost:8080/",
          "height": 645
        }
      },
      "source": [
        "plt.figure(figsize=(20,10))\n",
        "plt.bar(rev_by_month.index, rev_by_month.values, tick_label= rev_by_month.index)\n",
        "plt.xlabel('Month', fontsize=11)\n",
        "plt.ylabel('Revenue', fontsize=11)\n",
        "plt.title('Revenue by Month', fontsize=13)\n",
        "plt.xticks(rotation=45)\n",
        "plt.show()"
      ],
      "execution_count": 14,
      "outputs": [
        {
          "output_type": "display_data",
          "data": {
            "image/png": "[encoded data removed]",
            "text/plain": [
              "<Figure size 1440x720 with 1 Axes>"
            ]
          },
          "metadata": {
            "tags": [],
            "needs_background": "light"
          }
        }
      ]
    },
    {
      "cell_type": "markdown",
      "metadata": {
        "id": "XrUNek53BSCp"
      },
      "source": [
        "#### 요일별 매출"
      ]
    },
    {
      "cell_type": "code",
      "metadata": {
        "id": "aMqDzR1OBXsS",
        "outputId": "76e4dadb-a17a-4bbd-d60d-1abfc5202ed8",
        "colab": {
          "base_uri": "https://localhost:8080/",
          "height": 158
        }
      },
      "source": [
        "rev_by_dow = retail.groupby('InvoiceDate_dow').sum()['CheckoutPrice']\n",
        "rev_by_dow"
      ],
      "execution_count": 15,
      "outputs": [
        {
          "output_type": "execute_result",
          "data": {
            "text/plain": [
              "InvoiceDate_dow\n",
              "0     990787.921\n",
              "1    1320841.971\n",
              "2    1157356.950\n",
              "3    1506215.480\n",
              "4     970415.401\n",
              "6     584175.911\n",
              "Name: CheckoutPrice, dtype: float64"
            ]
          },
          "metadata": {
            "tags": []
          },
          "execution_count": 15
        }
      ]
    },
    {
      "cell_type": "code",
      "metadata": {
        "id": "xpiMzfuoBhCR",
        "outputId": "6817e4f1-9f53-4a41-b05d-cce65d5f345d",
        "colab": {
          "base_uri": "https://localhost:8080/",
          "height": 621
        }
      },
      "source": [
        "DAY_OF_WEEK = np.array(['Mon', 'Tue', 'Wed', 'Thur', 'Fri', 'Sat', 'Sun'])\n",
        "rev_by_dow.index = DAY_OF_WEEK[rev_by_dow.index]\n",
        "plt.figure(figsize=(20,10))\n",
        "plt.bar(rev_by_dow.index, rev_by_dow.values, tick_label=rev_by_dow.index)\n",
        "plt.xlabel('DoW', fontsize=11)\n",
        "plt.ylabel('Revenue', fontsize=11)\n",
        "plt.title('Revenue by DoW', fontsize=13)\n",
        "plt.show()"
      ],
      "execution_count": 16,
      "outputs": [
        {
          "output_type": "display_data",
          "data": {
            "image/png": "[encoded data removed]",
            "text/plain": [
              "<Figure size 1440x720 with 1 Axes>"
            ]
          },
          "metadata": {
            "tags": [],
            "needs_background": "light"
          }
        }
      ]
    },
    {
      "cell_type": "markdown",
      "metadata": {
        "id": "Kr9McSKwCLkE"
      },
      "source": [
        "#### 시간별 매출"
      ]
    },
    {
      "cell_type": "code",
      "metadata": {
        "id": "j6JzTKdnCNhl",
        "outputId": "601382bb-6abb-454e-cb63-7ac4e4287e64",
        "colab": {
          "base_uri": "https://localhost:8080/",
          "height": 363
        }
      },
      "source": [
        "retail.head()"
      ],
      "execution_count": 17,
      "outputs": [
        {
          "output_type": "execute_result",
          "data": {
            "text/html": [
              "<div>\n",
              "<style scoped>\n",
              "    .dataframe tbody tr th:only-of-type {\n",
              "        vertical-align: middle;\n",
              "    }\n",
              "\n",
              "    .dataframe tbody tr th {\n",
              "        vertical-align: top;\n",
              "    }\n",
              "\n",
              "    .dataframe thead th {\n",
              "        text-align: right;\n",
              "    }\n",
              "</style>\n",
              "<table border=\"1\" class=\"dataframe\">\n",
              "  <thead>\n",
              "    <tr style=\"text-align: right;\">\n",
              "      <th></th>\n",
              "      <th>Unnamed: 0</th>\n",
              "      <th>InvoiceNo</th>\n",
              "      <th>StockCode</th>\n",
              "      <th>Description</th>\n",
              "      <th>Quantity</th>\n",
              "      <th>InvoiceDate</th>\n",
              "      <th>UnitPrice</th>\n",
              "      <th>CustomerID</th>\n",
              "      <th>Country</th>\n",
              "      <th>CheckoutPrice</th>\n",
              "      <th>InvoiceDate_month</th>\n",
              "      <th>InvoiceDate_dow</th>\n",
              "      <th>InvoiceDate_hour</th>\n",
              "    </tr>\n",
              "  </thead>\n",
              "  <tbody>\n",
              "    <tr>\n",
              "      <th>0</th>\n",
              "      <td>0</td>\n",
              "      <td>536365</td>\n",
              "      <td>85123A</td>\n",
              "      <td>WHITE HANGING HEART T-LIGHT HOLDER</td>\n",
              "      <td>6</td>\n",
              "      <td>2010-12-01 08:26:00</td>\n",
              "      <td>2.55</td>\n",
              "      <td>17850.0</td>\n",
              "      <td>United Kingdom</td>\n",
              "      <td>15.30</td>\n",
              "      <td>201012</td>\n",
              "      <td>2</td>\n",
              "      <td>8</td>\n",
              "    </tr>\n",
              "    <tr>\n",
              "      <th>1</th>\n",
              "      <td>1</td>\n",
              "      <td>536365</td>\n",
              "      <td>71053</td>\n",
              "      <td>WHITE METAL LANTERN</td>\n",
              "      <td>6</td>\n",
              "      <td>2010-12-01 08:26:00</td>\n",
              "      <td>3.39</td>\n",
              "      <td>17850.0</td>\n",
              "      <td>United Kingdom</td>\n",
              "      <td>20.34</td>\n",
              "      <td>201012</td>\n",
              "      <td>2</td>\n",
              "      <td>8</td>\n",
              "    </tr>\n",
              "    <tr>\n",
              "      <th>2</th>\n",
              "      <td>2</td>\n",
              "      <td>536365</td>\n",
              "      <td>84406B</td>\n",
              "      <td>CREAM CUPID HEARTS COAT HANGER</td>\n",
              "      <td>8</td>\n",
              "      <td>2010-12-01 08:26:00</td>\n",
              "      <td>2.75</td>\n",
              "      <td>17850.0</td>\n",
              "      <td>United Kingdom</td>\n",
              "      <td>22.00</td>\n",
              "      <td>201012</td>\n",
              "      <td>2</td>\n",
              "      <td>8</td>\n",
              "    </tr>\n",
              "    <tr>\n",
              "      <th>3</th>\n",
              "      <td>3</td>\n",
              "      <td>536365</td>\n",
              "      <td>84029G</td>\n",
              "      <td>KNITTED UNION FLAG HOT WATER BOTTLE</td>\n",
              "      <td>6</td>\n",
              "      <td>2010-12-01 08:26:00</td>\n",
              "      <td>3.39</td>\n",
              "      <td>17850.0</td>\n",
              "      <td>United Kingdom</td>\n",
              "      <td>20.34</td>\n",
              "      <td>201012</td>\n",
              "      <td>2</td>\n",
              "      <td>8</td>\n",
              "    </tr>\n",
              "    <tr>\n",
              "      <th>4</th>\n",
              "      <td>4</td>\n",
              "      <td>536365</td>\n",
              "      <td>84029E</td>\n",
              "      <td>RED WOOLLY HOTTIE WHITE HEART.</td>\n",
              "      <td>6</td>\n",
              "      <td>2010-12-01 08:26:00</td>\n",
              "      <td>3.39</td>\n",
              "      <td>17850.0</td>\n",
              "      <td>United Kingdom</td>\n",
              "      <td>20.34</td>\n",
              "      <td>201012</td>\n",
              "      <td>2</td>\n",
              "      <td>8</td>\n",
              "    </tr>\n",
              "  </tbody>\n",
              "</table>\n",
              "</div>"
            ],
            "text/plain": [
              "   Unnamed: 0  InvoiceNo  ... InvoiceDate_dow InvoiceDate_hour\n",
              "0           0     536365  ...               2                8\n",
              "1           1     536365  ...               2                8\n",
              "2           2     536365  ...               2                8\n",
              "3           3     536365  ...               2                8\n",
              "4           4     536365  ...               2                8\n",
              "\n",
              "[5 rows x 13 columns]"
            ]
          },
          "metadata": {
            "tags": []
          },
          "execution_count": 17
        }
      ]
    },
    {
      "cell_type": "code",
      "metadata": {
        "id": "MI2NMt0GCOhz",
        "outputId": "46e8ca2c-9213-4f9f-c753-7d36eeab58d1",
        "colab": {
          "base_uri": "https://localhost:8080/",
          "height": 316
        }
      },
      "source": [
        "rev_by_hour = retail.groupby('InvoiceDate_hour').sum()['CheckoutPrice']\n",
        "rev_by_hour"
      ],
      "execution_count": 18,
      "outputs": [
        {
          "output_type": "execute_result",
          "data": {
            "text/plain": [
              "InvoiceDate_hour\n",
              "6          4.250\n",
              "7      18951.960\n",
              "8     201116.360\n",
              "9     531999.381\n",
              "10    977641.421\n",
              "11    871706.120\n",
              "12    990081.600\n",
              "13    886581.600\n",
              "14    718339.711\n",
              "15    711994.510\n",
              "16    326347.180\n",
              "17    158527.041\n",
              "18     81650.560\n",
              "19     37616.710\n",
              "20     17235.230\n",
              "Name: CheckoutPrice, dtype: float64"
            ]
          },
          "metadata": {
            "tags": []
          },
          "execution_count": 18
        }
      ]
    },
    {
      "cell_type": "code",
      "metadata": {
        "id": "OsYwxEDgCZT2",
        "outputId": "83d52048-0b82-46a3-9dff-b0010d80d1e2",
        "colab": {
          "base_uri": "https://localhost:8080/",
          "height": 621
        }
      },
      "source": [
        "plt.figure(figsize=(20,10))\n",
        "plt.bar(rev_by_hour.index, rev_by_hour.values, tick_label= rev_by_hour.index)\n",
        "plt.xlabel('Hour', fontsize=11)\n",
        "plt.ylabel('Revenue', fontsize=11)\n",
        "plt.title('Revenue by Hour', fontsize=13)\n",
        "plt.show()"
      ],
      "execution_count": 19,
      "outputs": [
        {
          "output_type": "display_data",
          "data": {
            "image/png": "[encoded data removed]",
            "text/plain": [
              "<Figure size 1440x720 with 1 Axes>"
            ]
          },
          "metadata": {
            "tags": [],
            "needs_background": "light"
          }
        }
      ]
    },
    {
      "cell_type": "markdown",
      "metadata": {
        "id": "j6iaAKTrDBHO"
      },
      "source": [
        "#### 제품별 매출"
      ]
    },
    {
      "cell_type": "code",
      "metadata": {
        "id": "TCK0q6PvCb9n",
        "outputId": "aa4b8fe6-6f91-4a5c-998d-881f273cb85d",
        "colab": {
          "base_uri": "https://localhost:8080/",
          "height": 105
        }
      },
      "source": [
        "# top 3 상품\n",
        "top_selling = retail.groupby('StockCode').sum()['Quantity'].sort_values(ascending=False)\n",
        "top_selling[:3]"
      ],
      "execution_count": 20,
      "outputs": [
        {
          "output_type": "execute_result",
          "data": {
            "text/plain": [
              "StockCode\n",
              "23166     76902\n",
              "84077     41511\n",
              "85099B    36937\n",
              "Name: Quantity, dtype: int64"
            ]
          },
          "metadata": {
            "tags": []
          },
          "execution_count": 20
        }
      ]
    },
    {
      "cell_type": "code",
      "metadata": {
        "id": "qMSas2j0DLGb",
        "outputId": "a53b5f4a-b8f3-4c36-a8d9-2c464c8d9d63",
        "colab": {
          "base_uri": "https://localhost:8080/",
          "height": 228
        }
      },
      "source": [
        "# top 10 매출\n",
        "top_revenue = retail.groupby('StockCode').sum()['CheckoutPrice'].sort_values(ascending=False)[:10]\n",
        "top_revenue"
      ],
      "execution_count": 21,
      "outputs": [
        {
          "output_type": "execute_result",
          "data": {
            "text/plain": [
              "StockCode\n",
              "22423     119716.24\n",
              "85123A     80642.53\n",
              "23166      80270.19\n",
              "85099B     67726.81\n",
              "47566      63020.57\n",
              "POST       58591.51\n",
              "22502      47366.20\n",
              "84879      43046.48\n",
              "M          32309.78\n",
              "79321      31276.77\n",
              "Name: CheckoutPrice, dtype: float64"
            ]
          },
          "metadata": {
            "tags": []
          },
          "execution_count": 21
        }
      ]
    }
  ]
}