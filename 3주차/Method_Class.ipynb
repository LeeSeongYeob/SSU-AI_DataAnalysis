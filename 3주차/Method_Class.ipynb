{
  "nbformat": 4,
  "nbformat_minor": 0,
  "metadata": {
    "colab": {
      "name": "Method_Class.ipynb",
      "provenance": [],
      "collapsed_sections": []
    },
    "kernelspec": {
      "name": "python3",
      "display_name": "Python 3"
    }
  },
  "cells": [
    {
      "cell_type": "markdown",
      "metadata": {
        "id": "GIFc7d0tcCxc",
        "colab_type": "text"
      },
      "source": [
        "# 함수와 클래스\n",
        "## 함수"
      ]
    },
    {
      "cell_type": "code",
      "metadata": {
        "id": "9zinm018bHgE",
        "colab_type": "code",
        "colab": {
          "base_uri": "https://localhost:8080/",
          "height": 34
        },
        "outputId": "1fec7344-090f-4530-8166-e37b2020caaf"
      },
      "source": [
        "def 원넓이(radius):\n",
        "    pi  = 3.141592\n",
        "    원넓이 = radius * radius * pi\n",
        "    return 원넓이\n",
        "원넓이(5)"
      ],
      "execution_count": 8,
      "outputs": [
        {
          "output_type": "execute_result",
          "data": {
            "text/plain": [
              "78.5398"
            ]
          },
          "metadata": {
            "tags": []
          },
          "execution_count": 8
        }
      ]
    },
    {
      "cell_type": "code",
      "metadata": {
        "id": "8_RpQ6FJeMFh",
        "colab_type": "code",
        "colab": {
          "base_uri": "https://localhost:8080/",
          "height": 52
        },
        "outputId": "33877b8f-66eb-4f8f-d49a-9f6b8b232aaa"
      },
      "source": [
        "n  = int(input(\"원의 반지름 입력\"))\n",
        "result = 원넓이(n)\n",
        "print(f\"원의 넓이: {result:.3f}\")"
      ],
      "execution_count": 9,
      "outputs": [
        {
          "output_type": "stream",
          "text": [
            "원의 반지름 입력5\n",
            "원의 넓이: 78.540\n"
          ],
          "name": "stdout"
        }
      ]
    },
    {
      "cell_type": "code",
      "metadata": {
        "id": "RpE9uISSev1m",
        "colab_type": "code",
        "colab": {
          "base_uri": "https://localhost:8080/",
          "height": 105
        },
        "outputId": "9a15ddfe-7969-4ad0-9f88-b5588b0a352e"
      },
      "source": [
        "def 적정몸무게(신장):\n",
        "    result = (신장 - 100) * 0.9\n",
        "    return result\n",
        "\n",
        "def BMI_cal(height, weight):\n",
        "    result = weight / (height/100)**2\n",
        "    return result\n",
        "\n",
        "def 비만도진단(bmi):\n",
        "    if bmi < 20:\n",
        "        print(\"저체중\")\n",
        "    elif 20<= bmi < 25:\n",
        "        print(\"정상체중\")\n",
        "    elif 25 <= bmi < 30:\n",
        "        print(\"경도비만\")\n",
        "    elif 30 <= bmi < 40:\n",
        "        print(\"비만\")\n",
        "    elif bmi >= 40:\n",
        "        print(\"고도비만\")\n",
        "\n",
        "height = int(input(\"키(cm)를 입력하세요: \"))\n",
        "weight = int(input(\"몸무게(kg)을 입력하세요: \"))\n",
        "print(\"적정몸무게: \",적정몸무게(height))\n",
        "bmi = BMI_cal(height, weight)\n",
        "print(\"bmi:  \",bmi)\n",
        "비만도진단(bmi)"
      ],
      "execution_count": 10,
      "outputs": [
        {
          "output_type": "stream",
          "text": [
            "키(cm)를 입력하세요: 180\n",
            "몸무게(kg)을 입력하세요: 90\n",
            "적정몸무게:  72.0\n",
            "bmi:   27.777777777777775\n",
            "경도비만\n"
          ],
          "name": "stdout"
        }
      ]
    },
    {
      "cell_type": "markdown",
      "metadata": {
        "id": "xkRGf5A_75wR",
        "colab_type": "text"
      },
      "source": [
        "# Class"
      ]
    },
    {
      "cell_type": "code",
      "metadata": {
        "id": "1_IPkpAN78LT",
        "colab_type": "code",
        "colab": {
          "base_uri": "https://localhost:8080/",
          "height": 34
        },
        "outputId": "4a301238-bb25-4323-ef24-d2433219258d"
      },
      "source": [
        "class Person:\n",
        "\n",
        "    def __init__(self,name,age,address):\n",
        "        self.name = name\n",
        "        self.age = age\n",
        "        self.address = address\n",
        "\n",
        "\n",
        "    def greeting(self):\n",
        "        print(\"저는 %s에 사는 %d살 %s 입니다.\" %(self.address, self.age, self.name))\n",
        "\n",
        "person1 = Person(name=\"lee\", age = 24,address=\"서울시\")\n",
        "person1.greeting()"
      ],
      "execution_count": 11,
      "outputs": [
        {
          "output_type": "stream",
          "text": [
            "저는 서울시에 사는 24살 lee 입니다.\n"
          ],
          "name": "stdout"
        }
      ]
    },
    {
      "cell_type": "markdown",
      "metadata": {
        "id": "y5rgUuMu_G-q",
        "colab_type": "text"
      },
      "source": [
        "# 모듈"
      ]
    },
    {
      "cell_type": "code",
      "metadata": {
        "id": "rOJ7OIZu_HZ2",
        "colab_type": "code",
        "colab": {
          "base_uri": "https://localhost:8080/",
          "height": 87
        },
        "outputId": "abc6ebc5-85fe-4b87-8bec-f30e245cbfe9"
      },
      "source": [
        "import math\n",
        "import time\n",
        "print(math.sin(0))\n",
        "print(math.sqrt(5))\n",
        "print(math.factorial(5))\n",
        "\n",
        "time.sleep(3)\n",
        "print(\"잠깐 쉬는 함수\")"
      ],
      "execution_count": 12,
      "outputs": [
        {
          "output_type": "stream",
          "text": [
            "0.0\n",
            "2.23606797749979\n",
            "120\n",
            "잠깐 쉬는 함수\n"
          ],
          "name": "stdout"
        }
      ]
    },
    {
      "cell_type": "code",
      "metadata": {
        "id": "-R8-dsR7_Xtl",
        "colab_type": "code",
        "colab": {
          "base_uri": "https://localhost:8080/",
          "height": 87
        },
        "outputId": "767c78b2-ddef-4b33-e81f-87248f3b556b"
      },
      "source": [
        "from datetime import date\n",
        "week = [\"월\",\"화\",\"수\",\"목\",\"금\",\"토\",\"일\"]\n",
        "\n",
        "year = int(input(\"몇 년도에 태어났나요? \"))\n",
        "month = int(input(\"몇 월에 태어났나요? \"))\n",
        "day = int(input(\"몇 일에 태어났나요? \"))\n",
        "\n",
        "birthday  = date(year,  month, day)\n",
        "index = birthday.weekday()\n",
        "print(week[index], \"요일에 태어났군요.\")"
      ],
      "execution_count": 13,
      "outputs": [
        {
          "output_type": "stream",
          "text": [
            "몇 년도에 태어났나요? 1997\n",
            "몇 월에 태어났나요? 9\n",
            "몇 일에 태어났나요? 17\n",
            "수 요일에 태어났군요.\n"
          ],
          "name": "stdout"
        }
      ]
    }
  ]
}