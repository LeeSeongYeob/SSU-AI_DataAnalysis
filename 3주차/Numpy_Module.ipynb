{
  "nbformat": 4,
  "nbformat_minor": 0,
  "metadata": {
    "colab": {
      "name": "Numpy_Module.ipynb",
      "provenance": []
    },
    "kernelspec": {
      "name": "python3",
      "display_name": "Python 3"
    }
  },
  "cells": [
    {
      "cell_type": "markdown",
      "metadata": {
        "id": "T9_DOeQmDkNE",
        "colab_type": "text"
      },
      "source": [
        "# Numpy Module"
      ]
    },
    {
      "cell_type": "code",
      "metadata": {
        "id": "DFi7ig9LBXyV",
        "colab_type": "code",
        "colab": {}
      },
      "source": [
        "import numpy as np"
      ],
      "execution_count": 1,
      "outputs": []
    },
    {
      "cell_type": "code",
      "metadata": {
        "id": "PJAgQV2TDdrm",
        "colab_type": "code",
        "colab": {
          "base_uri": "https://localhost:8080/",
          "height": 34
        },
        "outputId": "3f74dbe3-2a3d-4d5e-8f69-0deb19d41a9c"
      },
      "source": [
        "data1 = [1,2,3,4,5]\n",
        "a1 = np.array(data1,dtype=float)\n",
        "a1"
      ],
      "execution_count": 3,
      "outputs": [
        {
          "output_type": "execute_result",
          "data": {
            "text/plain": [
              "array([1., 2., 3., 4., 5.])"
            ]
          },
          "metadata": {
            "tags": []
          },
          "execution_count": 3
        }
      ]
    },
    {
      "cell_type": "code",
      "metadata": {
        "id": "eF2GfaszD2O5",
        "colab_type": "code",
        "colab": {
          "base_uri": "https://localhost:8080/",
          "height": 34
        },
        "outputId": "90cb3456-1abc-4306-b56a-4fd8fb544847"
      },
      "source": [
        "a2 = np.array([0.5,2,0.01,6])\n",
        "a2"
      ],
      "execution_count": 4,
      "outputs": [
        {
          "output_type": "execute_result",
          "data": {
            "text/plain": [
              "array([0.5 , 2.  , 0.01, 6.  ])"
            ]
          },
          "metadata": {
            "tags": []
          },
          "execution_count": 4
        }
      ]
    },
    {
      "cell_type": "code",
      "metadata": {
        "id": "xb6j2AxjD-DZ",
        "colab_type": "code",
        "colab": {
          "base_uri": "https://localhost:8080/",
          "height": 52
        },
        "outputId": "98a3ca47-5fde-4dac-98f1-a4f020d9a7ba"
      },
      "source": [
        "print(type(a2))     # 내부 데이터 타입은 알려주지 않음\n",
        "print(a2.dtype)"
      ],
      "execution_count": 5,
      "outputs": [
        {
          "output_type": "stream",
          "text": [
            "<class 'numpy.ndarray'>\n",
            "float64\n"
          ],
          "name": "stdout"
        }
      ]
    },
    {
      "cell_type": "code",
      "metadata": {
        "id": "RVgs6OTcEDDa",
        "colab_type": "code",
        "colab": {
          "base_uri": "https://localhost:8080/",
          "height": 34
        },
        "outputId": "00ee9ae2-5ecc-40c1-88d1-86244d4ec2eb"
      },
      "source": [
        "a3 = np.arange(0,10,2)\n",
        "a3"
      ],
      "execution_count": 6,
      "outputs": [
        {
          "output_type": "execute_result",
          "data": {
            "text/plain": [
              "array([0, 2, 4, 6, 8])"
            ]
          },
          "metadata": {
            "tags": []
          },
          "execution_count": 6
        }
      ]
    },
    {
      "cell_type": "markdown",
      "metadata": {
        "id": "UfvIPAKkEwwX",
        "colab_type": "text"
      },
      "source": [
        "## reshape"
      ]
    },
    {
      "cell_type": "code",
      "metadata": {
        "id": "LhArTP_LEK6V",
        "colab_type": "code",
        "colab": {
          "base_uri": "https://localhost:8080/",
          "height": 87
        },
        "outputId": "f697e874-f5a2-48ef-9cc2-17e5ac824788"
      },
      "source": [
        "data2 = np.arange(12).reshape(-1,3)\n",
        "data2"
      ],
      "execution_count": 8,
      "outputs": [
        {
          "output_type": "execute_result",
          "data": {
            "text/plain": [
              "array([[ 0,  1,  2],\n",
              "       [ 3,  4,  5],\n",
              "       [ 6,  7,  8],\n",
              "       [ 9, 10, 11]])"
            ]
          },
          "metadata": {
            "tags": []
          },
          "execution_count": 8
        }
      ]
    },
    {
      "cell_type": "markdown",
      "metadata": {
        "id": "JVx0bB19EvJy",
        "colab_type": "text"
      },
      "source": [
        "## linspace"
      ]
    },
    {
      "cell_type": "code",
      "metadata": {
        "id": "Z-ib4Ox4EgBj",
        "colab_type": "code",
        "colab": {
          "base_uri": "https://localhost:8080/",
          "height": 70
        },
        "outputId": "75593c6a-1dbc-4d54-e48c-8de29e3bf7e3"
      },
      "source": [
        "data3 = np.linspace(0,np.pi,12).reshape(-1,4)\n",
        "data3"
      ],
      "execution_count": 11,
      "outputs": [
        {
          "output_type": "execute_result",
          "data": {
            "text/plain": [
              "array([[0.        , 0.28559933, 0.57119866, 0.856798  ],\n",
              "       [1.14239733, 1.42799666, 1.71359599, 1.99919533],\n",
              "       [2.28479466, 2.57039399, 2.85599332, 3.14159265]])"
            ]
          },
          "metadata": {
            "tags": []
          },
          "execution_count": 11
        }
      ]
    },
    {
      "cell_type": "markdown",
      "metadata": {
        "id": "UqgTXjfcFAMv",
        "colab_type": "text"
      },
      "source": [
        "## 난수 배열 생성하기"
      ]
    },
    {
      "cell_type": "code",
      "metadata": {
        "id": "W6dt55-kE2dl",
        "colab_type": "code",
        "colab": {
          "base_uri": "https://localhost:8080/",
          "height": 52
        },
        "outputId": "37c0bb98-74f2-408f-a600-6702d50b0236"
      },
      "source": [
        "rand_num = np.random.rand(2,3)\n",
        "rand_num"
      ],
      "execution_count": 12,
      "outputs": [
        {
          "output_type": "execute_result",
          "data": {
            "text/plain": [
              "array([[0.97459968, 0.34565068, 0.83746666],\n",
              "       [0.65008698, 0.64109789, 0.34581287]])"
            ]
          },
          "metadata": {
            "tags": []
          },
          "execution_count": 12
        }
      ]
    },
    {
      "cell_type": "code",
      "metadata": {
        "id": "RSLX7yp1FHos",
        "colab_type": "code",
        "colab": {
          "base_uri": "https://localhost:8080/",
          "height": 70
        },
        "outputId": "f1e3c0cf-7808-45ab-8505-51f6218a3dd5"
      },
      "source": [
        "rand_num = np.random.randint(10,size=(3,4))\n",
        "rand_num"
      ],
      "execution_count": 14,
      "outputs": [
        {
          "output_type": "execute_result",
          "data": {
            "text/plain": [
              "array([[9, 2, 6, 5],\n",
              "       [8, 7, 7, 3],\n",
              "       [7, 2, 0, 1]])"
            ]
          },
          "metadata": {
            "tags": []
          },
          "execution_count": 14
        }
      ]
    },
    {
      "cell_type": "code",
      "metadata": {
        "id": "Viclx5t5FQHh",
        "colab_type": "code",
        "colab": {
          "base_uri": "https://localhost:8080/",
          "height": 34
        },
        "outputId": "c4e23677-743a-42ce-9be0-e2051d84943f"
      },
      "source": [
        "one_rand_num = np.random.randint(15)\n",
        "one_rand_num"
      ],
      "execution_count": 16,
      "outputs": [
        {
          "output_type": "execute_result",
          "data": {
            "text/plain": [
              "14"
            ]
          },
          "metadata": {
            "tags": []
          },
          "execution_count": 16
        }
      ]
    },
    {
      "cell_type": "markdown",
      "metadata": {
        "id": "D609brcvFgWD",
        "colab_type": "text"
      },
      "source": [
        "## astype"
      ]
    },
    {
      "cell_type": "code",
      "metadata": {
        "id": "Zk-sB3JzFa_i",
        "colab_type": "code",
        "colab": {
          "base_uri": "https://localhost:8080/",
          "height": 52
        },
        "outputId": "e9240d80-9979-4b27-cc53-a6643f0e9639"
      },
      "source": [
        "num_arr = np.array([\"1\",\"234\",\"2143231\"])\n",
        "print(num_arr.dtype)\n",
        "num_arr = num_arr.astype(\"f\")\n",
        "num_arr"
      ],
      "execution_count": 19,
      "outputs": [
        {
          "output_type": "stream",
          "text": [
            "<U7\n"
          ],
          "name": "stdout"
        },
        {
          "output_type": "execute_result",
          "data": {
            "text/plain": [
              "array([1.000000e+00, 2.340000e+02, 2.143231e+06], dtype=float32)"
            ]
          },
          "metadata": {
            "tags": []
          },
          "execution_count": 19
        }
      ]
    },
    {
      "cell_type": "markdown",
      "metadata": {
        "id": "8KnBrnSgNKL3",
        "colab_type": "text"
      },
      "source": [
        "# practice"
      ]
    },
    {
      "cell_type": "code",
      "metadata": {
        "id": "L24HbbeKL00U",
        "colab_type": "code",
        "colab": {
          "base_uri": "https://localhost:8080/",
          "height": 34
        },
        "outputId": "362afd8d-0ddf-4332-9a0e-0f19f3431e54"
      },
      "source": [
        "# a = [1,2,3,4] 리스트를 float 타입 배열 A를 만들기\n",
        "a = [1,2,3,4]\n",
        "A = np.array(a,dtype=float)\n",
        "A"
      ],
      "execution_count": 20,
      "outputs": [
        {
          "output_type": "execute_result",
          "data": {
            "text/plain": [
              "array([1., 2., 3., 4.])"
            ]
          },
          "metadata": {
            "tags": []
          },
          "execution_count": 20
        }
      ]
    },
    {
      "cell_type": "code",
      "metadata": {
        "id": "zi0AStEpaeDy",
        "colab_type": "code",
        "colab": {
          "base_uri": "https://localhost:8080/",
          "height": 34
        },
        "outputId": "0df614d0-f916-4e2f-e668-47404d857060"
      },
      "source": [
        "# b =[True, False, True] 불타입 리스트를 배열B로 만들고 정수형으로 출력하기\n",
        "b = [True,False,True]\n",
        "B = np.array(b,dtype=int)\n",
        "B"
      ],
      "execution_count": 21,
      "outputs": [
        {
          "output_type": "execute_result",
          "data": {
            "text/plain": [
              "array([1, 0, 1])"
            ]
          },
          "metadata": {
            "tags": []
          },
          "execution_count": 21
        }
      ]
    },
    {
      "cell_type": "code",
      "metadata": {
        "id": "KnfaU4dqczks",
        "colab_type": "code",
        "colab": {
          "base_uri": "https://localhost:8080/",
          "height": 52
        },
        "outputId": "4de5fda1-f995-4f48-9e11-31c2b55551e9"
      },
      "source": [
        "c = [[1,2,3],[4,5,6]]\n",
        "C = np.array(c)\n",
        "C"
      ],
      "execution_count": 22,
      "outputs": [
        {
          "output_type": "execute_result",
          "data": {
            "text/plain": [
              "array([[1, 2, 3],\n",
              "       [4, 5, 6]])"
            ]
          },
          "metadata": {
            "tags": []
          },
          "execution_count": 22
        }
      ]
    },
    {
      "cell_type": "code",
      "metadata": {
        "id": "0PI-Y635dGcq",
        "colab_type": "code",
        "colab": {
          "base_uri": "https://localhost:8080/",
          "height": 52
        },
        "outputId": "7c199897-c7b3-4683-d2f7-4c8f4f7bb9dc"
      },
      "source": [
        "C = np.arange(1,7).reshape(2,3)\n",
        "C"
      ],
      "execution_count": 29,
      "outputs": [
        {
          "output_type": "execute_result",
          "data": {
            "text/plain": [
              "array([[1, 2, 3],\n",
              "       [4, 5, 6]])"
            ]
          },
          "metadata": {
            "tags": []
          },
          "execution_count": 29
        }
      ]
    },
    {
      "cell_type": "code",
      "metadata": {
        "id": "iw69-15ndP5W",
        "colab_type": "code",
        "colab": {
          "base_uri": "https://localhost:8080/",
          "height": 158
        },
        "outputId": "1e2d3e90-3d74-4409-dc39-1f18921ea0c4"
      },
      "source": [
        "# [0,1] 범위의 난수로 4 x 5 배열 R과 2~100사이의 정수 중 4 x 5의 난수 배\n",
        "# 열 G를 생성 하기 (0이상 1미만)\n",
        "R = np.random.rand(4,5)\n",
        "print(R)\n",
        "G = np.random.randint(2,100,size=(4,5))\n",
        "print(G)"
      ],
      "execution_count": 30,
      "outputs": [
        {
          "output_type": "stream",
          "text": [
            "[[0.13616484 0.75512021 0.8149638  0.54897451 0.12491189]\n",
            " [0.12425817 0.75010141 0.85114614 0.84224353 0.12180009]\n",
            " [0.72008466 0.25883188 0.4868518  0.12176765 0.04759429]\n",
            " [0.90464643 0.74480841 0.39264941 0.19138392 0.94621865]]\n",
            "[[46 61 27 66 64]\n",
            " [78 63 34 94 67]\n",
            " [74 75 31 44 32]\n",
            " [58 83 10 85 68]]\n"
          ],
          "name": "stdout"
        }
      ]
    },
    {
      "cell_type": "code",
      "metadata": {
        "id": "Zc_oOf3Ze7TE",
        "colab_type": "code",
        "colab": {
          "base_uri": "https://localhost:8080/",
          "height": 34
        },
        "outputId": "ed66f9d5-6d1d-48c7-eeec-c182818873ac"
      },
      "source": [
        "R_mean = R.mean()\n",
        "G_mean = G.mean()\n",
        "print(R_mean, G_mean)"
      ],
      "execution_count": 31,
      "outputs": [
        {
          "output_type": "stream",
          "text": [
            "0.4942260850588222 58.0\n"
          ],
          "name": "stdout"
        }
      ]
    },
    {
      "cell_type": "code",
      "metadata": {
        "id": "J6wUlP8mfHDb",
        "colab_type": "code",
        "colab": {
          "base_uri": "https://localhost:8080/",
          "height": 34
        },
        "outputId": "675628c5-082c-4f4a-f49a-24ab4fe8b3ce"
      },
      "source": [
        "max = (R+G).max()\n",
        "max"
      ],
      "execution_count": 35,
      "outputs": [
        {
          "output_type": "execute_result",
          "data": {
            "text/plain": [
              "94.84224352882474"
            ]
          },
          "metadata": {
            "tags": []
          },
          "execution_count": 35
        }
      ]
    }
  ]
}