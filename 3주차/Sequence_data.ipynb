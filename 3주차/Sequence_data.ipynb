{
  "nbformat": 4,
  "nbformat_minor": 0,
  "metadata": {
    "colab": {
      "name": "Sequence_data.ipynb",
      "provenance": [],
      "collapsed_sections": []
    },
    "kernelspec": {
      "name": "python3",
      "display_name": "Python 3"
    }
  },
  "cells": [
    {
      "cell_type": "markdown",
      "metadata": {
        "id": "i0kOOy4D6lJU",
        "colab_type": "text"
      },
      "source": [
        "# Sequence data 복습\n",
        "- 세트는 index 불가, \n",
        "    - set a[0]  -> error\n",
        "- 딕셔너리 범위 지정 불가"
      ]
    },
    {
      "cell_type": "code",
      "metadata": {
        "id": "evZqHyix1rWD",
        "colab_type": "code",
        "colab": {}
      },
      "source": [
        "a = 10  # 변수\n",
        "a = \"String\" # 문자열\n",
        "a = [90,3.4,\"python\"] # 리스트\n",
        "a = {90,3.4,\"python\"} # 세트\n",
        "a = {\"d1\":90, \"d2\" : 3.5}   # 딕셔너리"
      ],
      "execution_count": 11,
      "outputs": []
    },
    {
      "cell_type": "code",
      "metadata": {
        "id": "d4ttyAlL64UG",
        "colab_type": "code",
        "colab": {
          "base_uri": "https://localhost:8080/",
          "height": 34
        },
        "outputId": "36a70b3c-4dbc-40a4-bee7-c024dc1ca085"
      },
      "source": [
        "# 세트\n",
        "data1 = {10,20,30}\n",
        "data2 = {40,50,60}\n",
        "#print(data1 + {40})  error\n",
        "print(data1 | data2)\n",
        "# print(data1 * 3)  error"
      ],
      "execution_count": 12,
      "outputs": [
        {
          "output_type": "stream",
          "text": [
            "{50, 20, 40, 10, 60, 30}\n"
          ],
          "name": "stdout"
        }
      ]
    },
    {
      "cell_type": "code",
      "metadata": {
        "id": "_uM_yhk47XXe",
        "colab_type": "code",
        "colab": {
          "base_uri": "https://localhost:8080/",
          "height": 70
        },
        "outputId": "be84f6ed-7e09-4681-cbb2-58fbf1bd749f"
      },
      "source": [
        "# 리스트\n",
        "data1 = [10,20,30]\n",
        "data2 = [40,50,60]\n",
        "print(data1 + [40])\n",
        "print(data1 + data2)\n",
        "print(data1 * 3)"
      ],
      "execution_count": 13,
      "outputs": [
        {
          "output_type": "stream",
          "text": [
            "[10, 20, 30, 40]\n",
            "[10, 20, 30, 40, 50, 60]\n",
            "[10, 20, 30, 10, 20, 30, 10, 20, 30]\n"
          ],
          "name": "stdout"
        }
      ]
    },
    {
      "cell_type": "markdown",
      "metadata": {
        "id": "T2iJwAnx8NHi",
        "colab_type": "text"
      },
      "source": [
        "- 튜플은 한번 생성된 요소 변경 불가"
      ]
    },
    {
      "cell_type": "code",
      "metadata": {
        "id": "9l0k1i6T7kqZ",
        "colab_type": "code",
        "colab": {
          "base_uri": "https://localhost:8080/",
          "height": 105
        },
        "outputId": "2f9aa248-4c6b-46e8-8ea1-490e3b505fee"
      },
      "source": [
        "# 튜플\n",
        "b = (10,20,30)\n",
        "# b[1] = 5\n",
        "print(b.count(10))\n",
        "print(b.index(10))\n",
        "data1 = (10,20,30)\n",
        "data2 = (40,50,60)\n",
        "\n",
        "print(data1 + (40,))    # 덧셈 연산 가능\n",
        "print(data1+data2)\n",
        "print(data1 * 3)"
      ],
      "execution_count": 14,
      "outputs": [
        {
          "output_type": "stream",
          "text": [
            "1\n",
            "0\n",
            "(10, 20, 30, 40)\n",
            "(10, 20, 30, 40, 50, 60)\n",
            "(10, 20, 30, 10, 20, 30, 10, 20, 30)\n"
          ],
          "name": "stdout"
        }
      ]
    },
    {
      "cell_type": "markdown",
      "metadata": {
        "id": "S4uqWL_F9x-k",
        "colab_type": "text"
      },
      "source": [
        "## 함수를 이용하여 시퀀스데이터 다루기\n",
        "### 문자열\n",
        "    - split(), strip(), join(), replace(), find(), count()\n"
      ]
    },
    {
      "cell_type": "code",
      "metadata": {
        "id": "KhMP2X4h8xyg",
        "colab_type": "code",
        "colab": {
          "base_uri": "https://localhost:8080/",
          "height": 122
        },
        "outputId": "dfe46868-ece2-496b-e651-5c8158b4930b"
      },
      "source": [
        "coffe = \"아메리카노,카페라떼,카푸치노\"\n",
        "print(coffe.split(\",\"))\n",
        "print(\"aaaaaPythonaaaaa\".strip(\"a\"))\n",
        "\n",
        "address_list = [\"서울시\",\"서초구\",\"반포대로\"]\n",
        "print(\",\".join(address_list)) \n",
        "str_a = \"Python is fast\"\n",
        "print(str_a.replace(\"Python\",\"IPython\"))\n",
        "\n",
        "str_f = \"Python code\"\n",
        "print(str_f.find(\"code\"))\n",
        "str_c = \"Python is powerful.\"\n",
        "print(str_c.count(\"o\"))"
      ],
      "execution_count": 15,
      "outputs": [
        {
          "output_type": "stream",
          "text": [
            "['아메리카노', '카페라떼', '카푸치노']\n",
            "Python\n",
            "서울시,서초구,반포대로\n",
            "IPython is fast\n",
            "7\n",
            "2\n"
          ],
          "name": "stdout"
        }
      ]
    },
    {
      "cell_type": "markdown",
      "metadata": {
        "id": "RewkSvJq_vpa",
        "colab_type": "text"
      },
      "source": [
        "### 리스트\n",
        "    - 추가/삽입:  append(), Insert(), extend()\n",
        "    - 삭제: remove(), clear(), pop()\n",
        "    - 찾기: index(), count()\n",
        "    - 정렬: sort(), reverse()"
      ]
    },
    {
      "cell_type": "code",
      "metadata": {
        "id": "fZBEM--F_rIZ",
        "colab_type": "code",
        "colab": {
          "base_uri": "https://localhost:8080/",
          "height": 122
        },
        "outputId": "42de6682-5bb3-4a0c-e71e-f3f9f377c67e"
      },
      "source": [
        "data1 = [\"Lee\",\"Kim\",\"Nam\"]\n",
        "# 추가 /삽입\n",
        "data1.append(\"Oh\")\n",
        "data1.insert(1,\"Hong\")\n",
        "data1.extend([\"Tae\",\"Kang\"])\n",
        "print(data1)\n",
        "\n",
        "# 삭제\n",
        "data1.remove(\"Tae\")\n",
        "# data1.clear()\n",
        "temp = data1.pop()  # 마지막 항목 제거한 후 반환\n",
        "print(temp)\n",
        "\n",
        "# 찾기\n",
        "print(data1.index(\"Oh\"))\n",
        "print(data1.count(\"Kim\"))\n",
        "\n",
        "# 정렬\n",
        "data1.sort()\n",
        "print(data1)\n",
        "data1.reverse()\n",
        "print(data1)"
      ],
      "execution_count": 16,
      "outputs": [
        {
          "output_type": "stream",
          "text": [
            "['Lee', 'Hong', 'Kim', 'Nam', 'Oh', 'Tae', 'Kang']\n",
            "Kang\n",
            "4\n",
            "1\n",
            "['Hong', 'Kim', 'Lee', 'Nam', 'Oh']\n",
            "['Oh', 'Nam', 'Lee', 'Kim', 'Hong']\n"
          ],
          "name": "stdout"
        }
      ]
    },
    {
      "cell_type": "markdown",
      "metadata": {
        "id": "F7FeBFUBCnWl",
        "colab_type": "text"
      },
      "source": [
        "### 튜플\n",
        "    - 찾기: index(), count()"
      ]
    },
    {
      "cell_type": "code",
      "metadata": {
        "id": "cCMaeJHiClFa",
        "colab_type": "code",
        "colab": {
          "base_uri": "https://localhost:8080/",
          "height": 52
        },
        "outputId": "f5472f14-249e-48cd-c2c8-31147e8f5918"
      },
      "source": [
        "friend = (\"James\", \"Lisa\",\"James\")\n",
        "print(friend.index(\"Lisa\"))\n",
        "print(friend.count(\"James\"))"
      ],
      "execution_count": 17,
      "outputs": [
        {
          "output_type": "stream",
          "text": [
            "1\n",
            "2\n"
          ],
          "name": "stdout"
        }
      ]
    },
    {
      "cell_type": "markdown",
      "metadata": {
        "id": "f2PclByvDutd",
        "colab_type": "text"
      },
      "source": [
        "### 딕셔너리\n",
        "    - 정보열기: key(), values(), items()\n",
        "    - 추가: update(dict_data2)\n",
        "    - 데이터 가져오기: get()\n",
        "    - 삭제: pop(), clear()"
      ]
    },
    {
      "cell_type": "code",
      "metadata": {
        "id": "N_ObMgljDX04",
        "colab_type": "code",
        "colab": {
          "base_uri": "https://localhost:8080/",
          "height": 140
        },
        "outputId": "c52194a7-fbe2-4ecb-9041-d3ac8e93a122"
      },
      "source": [
        "data1 = {\"Kim\":10, \"Lee\": 20, \"Nam\":30}\n",
        "# 정보 얻기\n",
        "print(data1.keys())\n",
        "print(data1.values())\n",
        "print(data1.items())\n",
        "\n",
        "# 추가\n",
        "data2 = {\"Hong\" : 26}\n",
        "data1.update(data2)\n",
        "print(data1)\n",
        "\n",
        "# 데이터 가져오기\n",
        "data1.get(\"tae\",0)  # 없을시 0 \n",
        "\n",
        "# 삭제\n",
        "data1.pop(\"Kim\")\n",
        "# del data1[\"Kim\"]\n",
        "# data1.clear()\n",
        "\n",
        "# print(data1+data2) 덧셈 연산 불가\n",
        "# print(data1*3) 정수 곱셈 불가\n",
        "for key,val in data1.items():\n",
        "    print(key,val)"
      ],
      "execution_count": 18,
      "outputs": [
        {
          "output_type": "stream",
          "text": [
            "dict_keys(['Kim', 'Lee', 'Nam'])\n",
            "dict_values([10, 20, 30])\n",
            "dict_items([('Kim', 10), ('Lee', 20), ('Nam', 30)])\n",
            "{'Kim': 10, 'Lee': 20, 'Nam': 30, 'Hong': 26}\n",
            "Lee 20\n",
            "Nam 30\n",
            "Hong 26\n"
          ],
          "name": "stdout"
        }
      ]
    }
  ]
}