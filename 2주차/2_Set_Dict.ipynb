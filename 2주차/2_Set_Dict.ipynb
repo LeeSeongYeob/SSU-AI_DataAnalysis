{
  "nbformat": 4,
  "nbformat_minor": 0,
  "metadata": {
    "colab": {
      "name": "2_Set_Dict.ipynb",
      "provenance": []
    },
    "kernelspec": {
      "name": "python3",
      "display_name": "Python 3"
    }
  },
  "cells": [
    {
      "cell_type": "markdown",
      "metadata": {
        "id": "md38SkXGOJoC",
        "colab_type": "text"
      },
      "source": [
        "# 세트와 딕셔너리 활용"
      ]
    },
    {
      "cell_type": "markdown",
      "metadata": {
        "id": "rKVj1KwZOPbi",
        "colab_type": "text"
      },
      "source": [
        "## Set\n",
        "- 데이터의 순서가 없고 중복해서 쓸 수 없음"
      ]
    },
    {
      "cell_type": "code",
      "metadata": {
        "id": "b4rmEtK-NwcV",
        "colab_type": "code",
        "colab": {
          "base_uri": "https://localhost:8080/",
          "height": 52
        },
        "outputId": "ac863e92-8790-46bc-e96f-85d3eaa250f5"
      },
      "source": [
        "set1 = {1,2,3}\n",
        "print(set1)\n",
        "set2 = set()\n",
        "print(type(set2))"
      ],
      "execution_count": 2,
      "outputs": [
        {
          "output_type": "stream",
          "text": [
            "{1, 2, 3}\n",
            "<class 'set'>\n"
          ],
          "name": "stdout"
        }
      ]
    },
    {
      "cell_type": "markdown",
      "metadata": {
        "id": "qu0YmR3SOfhp",
        "colab_type": "text"
      },
      "source": [
        "### 교집합 합집합 차집합\n",
        "- intersectuin\n",
        "- union\n",
        "- difference"
      ]
    },
    {
      "cell_type": "code",
      "metadata": {
        "id": "pgCk-uswOeyv",
        "colab_type": "code",
        "colab": {
          "base_uri": "https://localhost:8080/",
          "height": 70
        },
        "outputId": "5f8c8af2-f480-4c5b-a5cf-b0e49be17364"
      },
      "source": [
        "A = {1,2,3,4,5}\n",
        "B = {4,5,6,7,8}\n",
        "print(A.intersection(B))    # A & B\n",
        "print(A.union(B))           # A | B\n",
        "print(A.difference(B))      # A - B"
      ],
      "execution_count": 4,
      "outputs": [
        {
          "output_type": "stream",
          "text": [
            "{4, 5}\n",
            "{1, 2, 3, 4, 5, 6, 7, 8}\n",
            "{1, 2, 3}\n"
          ],
          "name": "stdout"
        }
      ]
    },
    {
      "cell_type": "code",
      "metadata": {
        "id": "DBQGiBHUOXQl",
        "colab_type": "code",
        "colab": {
          "base_uri": "https://localhost:8080/",
          "height": 34
        },
        "outputId": "03bffe74-4f87-469f-fdfd-fa06d29fe15c"
      },
      "source": [
        "a = {1,2,3}\n",
        "a.add(4); a"
      ],
      "execution_count": 12,
      "outputs": [
        {
          "output_type": "execute_result",
          "data": {
            "text/plain": [
              "{1, 2, 3, 4}"
            ]
          },
          "metadata": {
            "tags": []
          },
          "execution_count": 12
        }
      ]
    },
    {
      "cell_type": "code",
      "metadata": {
        "id": "NE90j1KhPlOv",
        "colab_type": "code",
        "colab": {
          "base_uri": "https://localhost:8080/",
          "height": 34
        },
        "outputId": "2bae41de-1568-4fdf-e91e-80bd5ecf15a9"
      },
      "source": [
        "a.remove(3); a"
      ],
      "execution_count": 13,
      "outputs": [
        {
          "output_type": "execute_result",
          "data": {
            "text/plain": [
              "{1, 2, 4}"
            ]
          },
          "metadata": {
            "tags": []
          },
          "execution_count": 13
        }
      ]
    },
    {
      "cell_type": "code",
      "metadata": {
        "id": "u-hkEvnLPoeL",
        "colab_type": "code",
        "colab": {
          "base_uri": "https://localhost:8080/",
          "height": 34
        },
        "outputId": "5bbdd64e-653e-4378-910b-ccfd463689b2"
      },
      "source": [
        "a.discard(2);a # 특정 항목이 없으면 그냥 넘어감"
      ],
      "execution_count": 14,
      "outputs": [
        {
          "output_type": "execute_result",
          "data": {
            "text/plain": [
              "{1, 4}"
            ]
          },
          "metadata": {
            "tags": []
          },
          "execution_count": 14
        }
      ]
    },
    {
      "cell_type": "code",
      "metadata": {
        "id": "NqfYCJZGPrWH",
        "colab_type": "code",
        "colab": {
          "base_uri": "https://localhost:8080/",
          "height": 34
        },
        "outputId": "a1908b1d-0046-46df-d7d5-b61fe1a23c97"
      },
      "source": [
        "a.pop(); a # 임의의 항목을 삭제하고 해당 항목 반환"
      ],
      "execution_count": 15,
      "outputs": [
        {
          "output_type": "execute_result",
          "data": {
            "text/plain": [
              "{4}"
            ]
          },
          "metadata": {
            "tags": []
          },
          "execution_count": 15
        }
      ]
    },
    {
      "cell_type": "code",
      "metadata": {
        "id": "0eWNdo-YPxNb",
        "colab_type": "code",
        "colab": {
          "base_uri": "https://localhost:8080/",
          "height": 34
        },
        "outputId": "b16d1555-f354-4104-b8f6-5c89cbdd5893"
      },
      "source": [
        "b = {1,2,3,4}\n",
        "b.clear();b"
      ],
      "execution_count": 17,
      "outputs": [
        {
          "output_type": "execute_result",
          "data": {
            "text/plain": [
              "set()"
            ]
          },
          "metadata": {
            "tags": []
          },
          "execution_count": 17
        }
      ]
    },
    {
      "cell_type": "markdown",
      "metadata": {
        "id": "X287gAsCP74I",
        "colab_type": "text"
      },
      "source": [
        "## 딕셔너리 만들기\n",
        "- x = {}\n",
        "- x = dict()"
      ]
    },
    {
      "cell_type": "code",
      "metadata": {
        "id": "FwFYnLBOP4xM",
        "colab_type": "code",
        "colab": {
          "base_uri": "https://localhost:8080/",
          "height": 54
        },
        "outputId": "d54aa122-9955-4549-dd39-9e2b915f23e1"
      },
      "source": [
        "country_capital = {\"영국\":\"런던\", \"프랑스\":\"파리\", \"스위스\": \"베른\", \"호주\":\"멜버른\", \"덴마크\": \"코펜하겐\"}\n",
        "country_capital"
      ],
      "execution_count": 18,
      "outputs": [
        {
          "output_type": "execute_result",
          "data": {
            "text/plain": [
              "{'덴마크': '코펜하겐', '스위스': '베른', '영국': '런던', '프랑스': '파리', '호주': '멜버른'}"
            ]
          },
          "metadata": {
            "tags": []
          },
          "execution_count": 18
        }
      ]
    },
    {
      "cell_type": "code",
      "metadata": {
        "id": "Z30FNmmMQT-_",
        "colab_type": "code",
        "colab": {
          "base_uri": "https://localhost:8080/",
          "height": 35
        },
        "outputId": "e98c063d-9d8b-4f62-b247-b9c289824161"
      },
      "source": [
        "country_capital[\"영국\"]\n",
        "# country_capital[\"영국\" : \"스위스\"] # 슬라이싱은 불가"
      ],
      "execution_count": 21,
      "outputs": [
        {
          "output_type": "execute_result",
          "data": {
            "application/vnd.google.colaboratory.intrinsic+json": {
              "type": "string"
            },
            "text/plain": [
              "'런던'"
            ]
          },
          "metadata": {
            "tags": []
          },
          "execution_count": 21
        }
      ]
    },
    {
      "cell_type": "code",
      "metadata": {
        "id": "yYA0GOM7QXFU",
        "colab_type": "code",
        "colab": {
          "base_uri": "https://localhost:8080/",
          "height": 34
        },
        "outputId": "34b62a2b-23a0-496c-9962-0cd9d384adab"
      },
      "source": [
        "mixed_dict = {1:10,\"Str\":100,\"num\":{1:10,2:20},\"list_tuple\":{A:[11,12,13]}}\n",
        "mixed_dict"
      ],
      "execution_count": 24,
      "outputs": [
        {
          "output_type": "execute_result",
          "data": {
            "text/plain": [
              "{1: 10, 'Str': 100, 'list_tuple': {None: [11, 12, 13]}, 'num': {1: 10, 2: 20}}"
            ]
          },
          "metadata": {
            "tags": []
          },
          "execution_count": 24
        }
      ]
    },
    {
      "cell_type": "code",
      "metadata": {
        "id": "gYewzhD-Q4MA",
        "colab_type": "code",
        "colab": {
          "base_uri": "https://localhost:8080/",
          "height": 34
        },
        "outputId": "94440694-2e90-4333-a9e8-b13537158930"
      },
      "source": [
        "# 딕셔너리 데이터 삭제\n",
        "del country_capital[\"덴마크\"]\n",
        "country_capital"
      ],
      "execution_count": 25,
      "outputs": [
        {
          "output_type": "execute_result",
          "data": {
            "text/plain": [
              "{'스위스': '베른', '영국': '런던', '프랑스': '파리', '호주': '멜버른'}"
            ]
          },
          "metadata": {
            "tags": []
          },
          "execution_count": 25
        }
      ]
    },
    {
      "cell_type": "markdown",
      "metadata": {
        "id": "0JQ7HFLxRcse",
        "colab_type": "text"
      },
      "source": [
        "### 딕셔너리 활용\n",
        "- keys()\n",
        "- values()\n",
        "- items()\n",
        "- update()\n",
        "- get()\n",
        "- pop()\n",
        "- clear()"
      ]
    },
    {
      "cell_type": "code",
      "metadata": {
        "id": "gXVDsWPyRX-6",
        "colab_type": "code",
        "colab": {
          "base_uri": "https://localhost:8080/",
          "height": 34
        },
        "outputId": "79f71f7e-589d-42dd-bab1-b961cdd081ea"
      },
      "source": [
        "fruit_code = {\"사과\":101,\"배\":102,\"딸기\":103,\"포도\":104}\n",
        "fruit_code.keys()"
      ],
      "execution_count": 27,
      "outputs": [
        {
          "output_type": "execute_result",
          "data": {
            "text/plain": [
              "dict_keys(['사과', '배', '딸기', '포도'])"
            ]
          },
          "metadata": {
            "tags": []
          },
          "execution_count": 27
        }
      ]
    },
    {
      "cell_type": "code",
      "metadata": {
        "id": "k1ShtwvrRvMz",
        "colab_type": "code",
        "colab": {
          "base_uri": "https://localhost:8080/",
          "height": 34
        },
        "outputId": "7de62862-0646-44f7-e2bb-f6697c7a724f"
      },
      "source": [
        "fruit_code.values()"
      ],
      "execution_count": 28,
      "outputs": [
        {
          "output_type": "execute_result",
          "data": {
            "text/plain": [
              "dict_values([101, 102, 103, 104])"
            ]
          },
          "metadata": {
            "tags": []
          },
          "execution_count": 28
        }
      ]
    },
    {
      "cell_type": "code",
      "metadata": {
        "id": "60yvPfY6RzvW",
        "colab_type": "code",
        "colab": {
          "base_uri": "https://localhost:8080/",
          "height": 34
        },
        "outputId": "de226014-58a8-4765-d78a-b38082945580"
      },
      "source": [
        "fruit_code.items()"
      ],
      "execution_count": 30,
      "outputs": [
        {
          "output_type": "execute_result",
          "data": {
            "text/plain": [
              "dict_items([('사과', 101), ('배', 102), ('딸기', 103), ('포도', 104)])"
            ]
          },
          "metadata": {
            "tags": []
          },
          "execution_count": 30
        }
      ]
    },
    {
      "cell_type": "code",
      "metadata": {
        "id": "OhLtpX4AR1wc",
        "colab_type": "code",
        "colab": {
          "base_uri": "https://localhost:8080/",
          "height": 34
        },
        "outputId": "78d6e038-19dc-4f5b-e6e7-933dd01cc617"
      },
      "source": [
        "# 딕셔너리 데이터 추가\n",
        "a = {\"오렌지\" : 106}\n",
        "fruit_code.update(a)\n",
        "fruit_code"
      ],
      "execution_count": 31,
      "outputs": [
        {
          "output_type": "execute_result",
          "data": {
            "text/plain": [
              "{'딸기': 103, '배': 102, '사과': 101, '오렌지': 106, '포도': 104}"
            ]
          },
          "metadata": {
            "tags": []
          },
          "execution_count": 31
        }
      ]
    },
    {
      "cell_type": "code",
      "metadata": {
        "id": "1oZK-CJ9R_7z",
        "colab_type": "code",
        "colab": {
          "base_uri": "https://localhost:8080/",
          "height": 34
        },
        "outputId": "32dfb1df-2de5-4c5d-ce06-847ed9923f84"
      },
      "source": [
        "fruit_code.get(\"사과\")"
      ],
      "execution_count": 32,
      "outputs": [
        {
          "output_type": "execute_result",
          "data": {
            "text/plain": [
              "101"
            ]
          },
          "metadata": {
            "tags": []
          },
          "execution_count": 32
        }
      ]
    },
    {
      "cell_type": "code",
      "metadata": {
        "id": "ZMtw0-ydSGLm",
        "colab_type": "code",
        "colab": {
          "base_uri": "https://localhost:8080/",
          "height": 52
        },
        "outputId": "d912f414-ac6a-4b73-ddf4-6bf068047a7d"
      },
      "source": [
        "a = fruit_code.pop(\"사과\")\n",
        "print(fruit_code)\n",
        "print(a)"
      ],
      "execution_count": 33,
      "outputs": [
        {
          "output_type": "stream",
          "text": [
            "{'배': 102, '딸기': 103, '포도': 104, '오렌지': 106}\n",
            "101\n"
          ],
          "name": "stdout"
        }
      ]
    },
    {
      "cell_type": "code",
      "metadata": {
        "id": "PR7pkL_ZSMt2",
        "colab_type": "code",
        "colab": {
          "base_uri": "https://localhost:8080/",
          "height": 34
        },
        "outputId": "f4784387-f1aa-4861-ec25-5ec5f0574773"
      },
      "source": [
        "fruit_code.clear()\n",
        "fruit_code"
      ],
      "execution_count": 34,
      "outputs": [
        {
          "output_type": "execute_result",
          "data": {
            "text/plain": [
              "{}"
            ]
          },
          "metadata": {
            "tags": []
          },
          "execution_count": 34
        }
      ]
    }
  ]
}