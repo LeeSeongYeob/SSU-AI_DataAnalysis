{
  "nbformat": 4,
  "nbformat_minor": 0,
  "metadata": {
    "colab": {
      "name": "2_Class_Method.ipynb",
      "provenance": [],
      "collapsed_sections": []
    },
    "kernelspec": {
      "name": "python3",
      "display_name": "Python 3"
    }
  },
  "cells": [
    {
      "cell_type": "markdown",
      "metadata": {
        "id": "X6DxhhYTcH-s",
        "colab_type": "text"
      },
      "source": [
        "# 클래스와 객체 생성"
      ]
    },
    {
      "cell_type": "code",
      "metadata": {
        "id": "4bfHD6QuSW3W",
        "colab_type": "code",
        "colab": {}
      },
      "source": [
        "class Car:\n",
        "    color = \"\"\n",
        "    speed = 0\n",
        "\n",
        "    def upSpeed(self, value):\n",
        "        self.speed += value\n",
        "\n",
        "    \n",
        "    def downSpeed(self,value):\n",
        "        self.speed -= value\n",
        "\n",
        "    def stop(self):\n",
        "        self.speed = 0"
      ],
      "execution_count": 1,
      "outputs": []
    },
    {
      "cell_type": "code",
      "metadata": {
        "id": "paMyRZwfcas1",
        "colab_type": "code",
        "colab": {}
      },
      "source": [
        "mycar1 = Car()\n",
        "mycar2 = Car()"
      ],
      "execution_count": 2,
      "outputs": []
    },
    {
      "cell_type": "code",
      "metadata": {
        "id": "M_fdFh6mceX_",
        "colab_type": "code",
        "colab": {
          "base_uri": "https://localhost:8080/",
          "height": 34
        },
        "outputId": "825ea0b4-d5d7-4a34-fb1c-4f73077f9b5c"
      },
      "source": [
        "mycar1.color = \"red\"\n",
        "mycar1.speed = 0\n",
        "mycar2.color = \"blue\"\n",
        "mycar2.speed = 0\n",
        "print(mycar1.color, mycar2.color)"
      ],
      "execution_count": 5,
      "outputs": [
        {
          "output_type": "stream",
          "text": [
            "red blue\n"
          ],
          "name": "stdout"
        }
      ]
    },
    {
      "cell_type": "code",
      "metadata": {
        "id": "3PUfKNxXc1On",
        "colab_type": "code",
        "colab": {
          "base_uri": "https://localhost:8080/",
          "height": 34
        },
        "outputId": "2f4bcf79-02d3-4c49-a274-37b62607af47"
      },
      "source": [
        "mycar1.upSpeed(30)\n",
        "mycar2.upSpeed(50)\n",
        "print(f\"car1의 속도는 : {mycar1.speed}, car2의 속도는 : {mycar2.speed}\")"
      ],
      "execution_count": 6,
      "outputs": [
        {
          "output_type": "stream",
          "text": [
            "car1의 속도는 : 30, car2의 속도는 : 50\n"
          ],
          "name": "stdout"
        }
      ]
    },
    {
      "cell_type": "markdown",
      "metadata": {
        "id": "3fGVA7XrdwhU",
        "colab_type": "text"
      },
      "source": [
        "초기화 함수 __init__()\n",
        "클래스의 객체가 생성될 때 자동으로 실행"
      ]
    },
    {
      "cell_type": "code",
      "metadata": {
        "id": "mk1z6MCmdIDW",
        "colab_type": "code",
        "colab": {}
      },
      "source": [
        "class Car:\n",
        "    color = \"\"\n",
        "    speed = 0\n",
        "    def __init__(self, color, speed):\n",
        "        self.color = color\n",
        "        self.speed = speed"
      ],
      "execution_count": 7,
      "outputs": []
    },
    {
      "cell_type": "markdown",
      "metadata": {
        "id": "_-wU8SzGeU4A",
        "colab_type": "text"
      },
      "source": [
        "원의 넓이와 둘레를 구하는 클래스를 만들어 보기."
      ]
    },
    {
      "cell_type": "code",
      "metadata": {
        "id": "3_IVKrFKd6DH",
        "colab_type": "code",
        "colab": {
          "base_uri": "https://localhost:8080/",
          "height": 87
        },
        "outputId": "95f021e2-309f-4f9f-b0e3-34e87403abad"
      },
      "source": [
        "class Circle():\n",
        "    radis = 0   # 반지금\n",
        "    def __init__(self,radis ):\n",
        "        self.radis = radis\n",
        "\n",
        "    def setR(self,r):\n",
        "        self.radis = r\n",
        "    def 넓이(self):\n",
        "        return pow(self.radis,2) * 3.14\n",
        "    def 둘레(self):\n",
        "        return self.radis * 2 * 3.14\n",
        "\n",
        "c1 = Circle(10)\n",
        "print(f\"넓이 : {c1.넓이()}\\n\")\n",
        "print(f\"둘레 : {c1.둘레():.2f}\\n\")\n"
      ],
      "execution_count": 15,
      "outputs": [
        {
          "output_type": "stream",
          "text": [
            "넓이 : 314.0\n",
            "\n",
            "둘레 : 62.80\n",
            "\n"
          ],
          "name": "stdout"
        }
      ]
    },
    {
      "cell_type": "markdown",
      "metadata": {
        "id": "qNeBC23_gxhi",
        "colab_type": "text"
      },
      "source": [
        "축구 선수의 정보를 관리하는 클래스"
      ]
    },
    {
      "cell_type": "code",
      "metadata": {
        "id": "HjvGRp-3fiHF",
        "colab_type": "code",
        "colab": {
          "base_uri": "https://localhost:8080/",
          "height": 52
        },
        "outputId": "6680d104-b1cb-4620-9192-013824abf9dd"
      },
      "source": [
        "class SoccerPlayer():\n",
        "    def __init__(self,name,pos,back_num):\n",
        "        self.name = name\n",
        "        self.position = pos\n",
        "        self.back_num = back_num\n",
        "    \n",
        "    def getInfo(self):\n",
        "        return self.name, self.position, self.back_num\n",
        "\n",
        "    def changeBack(self, num):\n",
        "        self.back_num = num\n",
        "        print(\"변경된 백넘버 : {}\".format(self.back_num))\n",
        "HmSon = SoccerPlayer(name=\"Son\",pos=\"FW\",back_num = 7)\n",
        "a,b,c = HmSon.getInfo()\n",
        "print(a,b,c)\n",
        "HmSon.changeBack(10)\n"
      ],
      "execution_count": 26,
      "outputs": [
        {
          "output_type": "stream",
          "text": [
            "Son FW 7\n",
            "변경된 백넘버 : 10\n"
          ],
          "name": "stdout"
        }
      ]
    },
    {
      "cell_type": "markdown",
      "metadata": {
        "id": "Uabjd5ZDig-V",
        "colab_type": "text"
      },
      "source": [
        "학교 시험 성적을 관리하는 클래스"
      ]
    },
    {
      "cell_type": "code",
      "metadata": {
        "id": "5_13ZNONgadm",
        "colab_type": "code",
        "colab": {
          "base_uri": "https://localhost:8080/",
          "height": 52
        },
        "outputId": "05f76ef1-7b37-447a-e92b-9ecaa09cd563"
      },
      "source": [
        "class Student():\n",
        "    name = None\n",
        "    kor = None\n",
        "    eng = None\n",
        "    math = None\n",
        "    def __init__(self,name,kor,eng,math):\n",
        "        self.name = name\n",
        "        self.kor = kor\n",
        "        self.eng = eng\n",
        "        self.math = math\n",
        "\n",
        "    def totalScore(self):\n",
        "        return self.kor + self.eng + self.math\n",
        "    def meanScore(self):\n",
        "        return self.totalScore() / 3\n",
        "\n",
        "std1 = Student(name = \" Lee\", kor = 90, eng=80, math=75)\n",
        "print(f\"성적 합계 : {std1.totalScore()}\")\n",
        "print(f\"성적 평균 : {std1.meanScore():.2f}\")\n"
      ],
      "execution_count": 35,
      "outputs": [
        {
          "output_type": "stream",
          "text": [
            "성적 합계 : 245\n",
            "성적 평균 : 81.67\n"
          ],
          "name": "stdout"
        }
      ]
    },
    {
      "cell_type": "markdown",
      "metadata": {
        "id": "xncR1Ingkooq",
        "colab_type": "text"
      },
      "source": [
        "직원을 관리하는 프로그램"
      ]
    },
    {
      "cell_type": "code",
      "metadata": {
        "id": "N02JkLfxkoai",
        "colab_type": "code",
        "colab": {
          "base_uri": "https://localhost:8080/",
          "height": 158
        },
        "outputId": "d98aba89-f56d-4c60-8d5b-6b7420d815ec"
      },
      "source": [
        "class Employee():\n",
        "    first_name = \"\"\n",
        "    last_name = \"\"\n",
        "    age = 0\n",
        "    pay = 0\n",
        "    def __init__(self,first_name =\"\",last_name=\"\",age=0,pay=0):\n",
        "        self.first_name = first_name\n",
        "        self.last_name = last_name\n",
        "        self.age = age\n",
        "        self.pay = pay\n",
        "    def info(self):\n",
        "        print(f\"직원의 이름은 : {self.first_name + self.last_name}, 나이: {self.age}\")\n",
        "\n",
        "    def get_pay(self):\n",
        "        print(f\"연봉은 {self.pay}만원 입니다\")\n",
        "\n",
        "    def apply_ralse(self, raise_amount):\n",
        "        while raise_amount < 1:\n",
        "            print(\"연상률은 1% 보다 높아야 합니다\")\n",
        "            raise_amount = float(input(\"연상률을 입력해주세요\"))\n",
        "        new_pay = self.pay + (self.pay * (raise_amount/100))\n",
        "        print(f\"인상된 연봉은 : {new_pay:.0f}만원 입니다.\")\n",
        "\n",
        "emp1 = Employee(\"Sanghee\",\"Lee\",35,4000)\n",
        "emp2 = Employee(\"Minjung\",\"Kim\",40,6000)\n",
        "\n",
        "emp1.info()\n",
        "emp1.get_pay()\n",
        "emp1.apply_ralse(3)\n",
        "emp1.apply_ralse(-1)\n",
        "\n",
        "emp2.info()\n",
        "emp2.get_pay()\n"
      ],
      "execution_count": 48,
      "outputs": [
        {
          "output_type": "stream",
          "text": [
            "직원의 이름은 : SangheeLee, 나이: 35\n",
            "연봉은 4000만원 입니다\n",
            "인상된 연봉은 : 4120만원 입니다.\n",
            "연상률은 1% 보다 높아야 합니다\n",
            "연상률을 입력해주세요5\n",
            "인상된 연봉은 : 4200만원 입니다.\n",
            "직원의 이름은 : MinjungKim, 나이: 40\n",
            "연봉은 6000만원 입니다\n"
          ],
          "name": "stdout"
        }
      ]
    }
  ]
}