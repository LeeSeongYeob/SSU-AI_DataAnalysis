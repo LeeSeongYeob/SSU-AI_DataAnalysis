{
  "nbformat": 4,
  "nbformat_minor": 0,
  "metadata": {
    "colab": {
      "name": "2_Python_basic.ipynb",
      "provenance": [],
      "collapsed_sections": []
    },
    "kernelspec": {
      "name": "python3",
      "display_name": "Python 3"
    }
  },
  "cells": [
    {
      "cell_type": "code",
      "metadata": {
        "id": "z5RI-YK0qiYG",
        "colab_type": "code",
        "colab": {
          "base_uri": "https://localhost:8080/",
          "height": 70
        },
        "outputId": "e5786314-f1b0-47b7-9bc8-b7eab093a37b"
      },
      "source": [
        "# 변수 출력 방법\n",
        "x = 5\n",
        "y = 3\n",
        "print(\"x + y = \",x+y)\n",
        "print(f\"x + y = {x+y}\")\n",
        "print(\"x + y = {0:}{1:}\".format(x+y, x * y))"
      ],
      "execution_count": 5,
      "outputs": [
        {
          "output_type": "stream",
          "text": [
            "x + y =  8\n",
            "x + y = 8\n",
            "x + y = 815\n"
          ],
          "name": "stdout"
        }
      ]
    },
    {
      "cell_type": "code",
      "metadata": {
        "id": "M2tKjTqcrUEm",
        "colab_type": "code",
        "colab": {}
      },
      "source": [
        "a = int(input(\"정수를 입력하세요 : \"))\n",
        "if a % 2 == 0 :\n",
        "    print(\"짝수를 입력했군요\")\n",
        "else:\n",
        "    print(\"홀수\")"
      ],
      "execution_count": null,
      "outputs": []
    },
    {
      "cell_type": "code",
      "metadata": {
        "id": "BvzwcaM_MsXA",
        "colab_type": "code",
        "colab": {
          "base_uri": "https://localhost:8080/",
          "height": 52
        },
        "outputId": "31621d7e-7620-4a52-b638-16b972174b05"
      },
      "source": [
        "x = int(input(\"점수 입력\"))\n",
        "if x >= 90:\n",
        "    print(\"pass\")\n",
        "else:\n",
        "    print(\"fail\")"
      ],
      "execution_count": 2,
      "outputs": [
        {
          "output_type": "stream",
          "text": [
            "점수 입력96\n",
            "pass\n"
          ],
          "name": "stdout"
        }
      ]
    },
    {
      "cell_type": "code",
      "metadata": {
        "id": "0JIn4AjDNPfe",
        "colab_type": "code",
        "colab": {
          "base_uri": "https://localhost:8080/",
          "height": 193
        },
        "outputId": "d9e9a253-f9e5-4d13-b1cd-392ce32f9aab"
      },
      "source": [
        "dan = int(input(\"몇 단을 원하시나요? \"))\n",
        "for x in range(1,10):\n",
        "    print(f\"{dan} * {x} : {dan * x}\")\n"
      ],
      "execution_count": 4,
      "outputs": [
        {
          "output_type": "stream",
          "text": [
            "몇 단을 원하시나요? 9\n",
            "9 * 1 : 9\n",
            "9 * 2 : 18\n",
            "9 * 3 : 27\n",
            "9 * 4 : 36\n",
            "9 * 5 : 45\n",
            "9 * 6 : 54\n",
            "9 * 7 : 63\n",
            "9 * 8 : 72\n",
            "9 * 9 : 81\n"
          ],
          "name": "stdout"
        }
      ]
    }
  ]
}